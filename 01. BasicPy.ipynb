{
 "cells": [
  {
   "cell_type": "markdown",
   "id": "a635d54b-9fa0-4175-935b-2ebc099cc124",
   "metadata": {},
   "source": [
    "# The reserved words in Python are:"
   ]
  },
  {
   "cell_type": "markdown",
   "id": "53fbed55-4bef-46be-aeaf-f89007e456ce",
   "metadata": {},
   "source": [
    "False\n",
    "\n",
    "None\n",
    "\n",
    "True\n",
    "\n",
    "and\n",
    "\n",
    "as\n",
    "\n",
    "assert\n",
    "\n",
    "async\n",
    "\n",
    "await\n",
    "\n",
    "break\n",
    "\n",
    "class\n",
    "\n",
    "continue\n",
    "\n",
    "def\n",
    "\n",
    "del\n",
    "\n",
    "elif\n",
    "\n",
    "else\n",
    "\n",
    "except\n",
    "\n",
    "finally\n",
    "\n",
    "for\n",
    "\n",
    "from\n",
    "\n",
    "global\n",
    "\n",
    "if\n",
    "\n",
    "import\n",
    "\n",
    "in\n",
    "\n",
    "is\n",
    "\n",
    "lambda\n",
    "\n",
    "nonlocal\n",
    "\n",
    "not\n",
    "\n",
    "or\n",
    "\n",
    "pass\n",
    "\n",
    "raise\n",
    "\n",
    "return\n",
    "\n",
    "try\n",
    "\n",
    "while\n",
    "\n",
    "with\n",
    "\n",
    "yield"
   ]
  },
  {
   "cell_type": "code",
   "execution_count": 5,
   "id": "01f40c17-6324-43be-9d57-fa7cb4293fd6",
   "metadata": {},
   "outputs": [
    {
     "name": "stdout",
     "output_type": "stream",
     "text": [
      "Hello World\n"
     ]
    }
   ],
   "source": [
    "print(\"Hello World\")\n",
    "\n",
    "# print - reserved word - outputs/ Prints\n",
    "# \" \" - Outputs the char inside the \" \""
   ]
  },
  {
   "cell_type": "markdown",
   "id": "bcb4f25d-13db-4b6c-9247-28572b88f551",
   "metadata": {},
   "source": [
    "# What is a Bug ?\n",
    "\n",
    "Error or Fault\n",
    "\n",
    "Types of Errors\n",
    "\n",
    "1. Syntax Error - Violated the grammer rules of python - structure of the program\n",
    "\n",
    "2. Locic Error - The program will run - but gives a wrong Output\n",
    "\n",
    "3. Runtime Error - Error does not appear till the program runs."
   ]
  },
  {
   "cell_type": "code",
   "execution_count": null,
   "id": "f32fae92-f474-44a4-9ab1-6f577798b3d1",
   "metadata": {},
   "outputs": [],
   "source": [
    "print(\"Hello World) \" # Syntax error near - Check \""
   ]
  },
  {
   "cell_type": "markdown",
   "id": "f43c4af5-341d-4d7d-98c3-6261771ec42d",
   "metadata": {
    "jp-MarkdownHeadingCollapsed": true
   },
   "source": [
    "# Debugging\n",
    "\n",
    "Process of removing the errors or Bugs \n",
    "\n",
    "1. reading - examine the code carefully\n",
    "\n",
    "2. Running - Experiment different version by making chnages\n",
    "\n",
    "3. Reminating - What Kind of error is it ?\n",
    "\n",
    "4. Retreating - Back off and Undo recent changes until we get back to a program that works - Simplifying the tasks"
   ]
  },
  {
   "cell_type": "markdown",
   "id": "d62fe617-5356-40ab-94cf-b1252ec13530",
   "metadata": {},
   "source": [
    "# Compiler and Interpreter\n",
    "\n",
    "01101100101001 - Machine Language \n",
    "\n",
    "High level Language - Python - Source Code \n",
    "\n",
    "We use Compiler and Interpreter to use to convert Source code to Machine Code\n",
    "\n",
    "compiler - Converts to Machine code - Executed by cpu - Faster \n",
    "\n",
    "Interpreter - Executed first - then Converted to Machine Code - Slow "
   ]
  },
  {
   "cell_type": "code",
   "execution_count": 7,
   "id": "b4b08b59-96cc-4f98-b8d8-a6e81d66abb9",
   "metadata": {},
   "outputs": [
    {
     "name": "stdout",
     "output_type": "stream",
     "text": [
      "Hello World\n",
      "Hello World\n",
      "Hello '  '  World\n",
      "Hello -\n",
      "World\n"
     ]
    }
   ],
   "source": [
    "# Print() function - Used to print the strings/ chars \n",
    "\n",
    "print(\"Hello World\") # Double quotes\n",
    "\n",
    "print('Hello World') # single \n",
    "\n",
    "print(\"Hello '  '  World\") # can use both single and double\n",
    "\n",
    "print(\"\"\"Hello -\n",
    "World\"\"\") # can jump to next line "
   ]
  },
  {
   "cell_type": "code",
   "execution_count": 10,
   "id": "d6cb6a0b-e28a-4301-ade0-cc5484e4e400",
   "metadata": {},
   "outputs": [
    {
     "name": "stdout",
     "output_type": "stream",
     "text": [
      "My First Program - Print Function\n",
      "The Print function prints\n",
      "itself like this:\n",
      "print('output to console')\n"
     ]
    }
   ],
   "source": [
    "# Practice - Print Statement\n",
    "\n",
    "print(\"My First Program - Print Function\")\n",
    "print(\"\"\"The Print function prints\n",
    "itself like this:\"\"\")\n",
    "print(\"print('output to console')\")"
   ]
  },
  {
   "cell_type": "markdown",
   "id": "30597523-4c30-43f1-8fd5-104dded17abc",
   "metadata": {},
   "source": [
    "# Variables, Expressions and Statements "
   ]
  },
  {
   "cell_type": "code",
   "execution_count": 29,
   "id": "8153874a-6fb5-4a63-89f4-c44f242da532",
   "metadata": {},
   "outputs": [
    {
     "name": "stdout",
     "output_type": "stream",
     "text": [
      "Hello World\n",
      "********************\n",
      "Hello ' \n",
      "********************\n",
      "Hello\n",
      "World \n",
      "********************\n",
      "<class 'str'>\n",
      "<class 'int'>\n",
      "********************\n",
      "1000000\n",
      "********************\n",
      "3.142\n",
      "<class 'float'>\n",
      "********************\n",
      "True\n",
      "False\n",
      "<class 'bool'>\n",
      "<class 'bool'>\n",
      "********************\n"
     ]
    }
   ],
   "source": [
    "# Values and type\n",
    "\n",
    "# String\n",
    "print(\"Hello World\") # Hello world is value - String or character/char\n",
    "print('*' *20)\n",
    "\n",
    "print(\"Hello ' \")\n",
    "print('*' *20)\n",
    "\n",
    "print(\"\"\"Hello\n",
    "World \"\"\")\n",
    "print('*' *20)\n",
    "\n",
    "# Integrs\n",
    "print(type(('11')))\n",
    "print(type((11)))\n",
    "print('*' *20)\n",
    "\n",
    "print(1_000_000) # python will ignore '_'\n",
    "print('*' *20)\n",
    "\n",
    "print(3.142)\n",
    "print(type(3.142))\n",
    "print('*' *20)\n",
    "\n",
    "print(True)\n",
    "print(False)\n",
    "\n",
    "print(type(True))\n",
    "print(type(False))\n",
    "print('*' *20)\n"
   ]
  },
  {
   "cell_type": "code",
   "execution_count": 34,
   "id": "38664609-b89b-47ff-9cb5-31b17df03574",
   "metadata": {},
   "outputs": [
    {
     "name": "stdout",
     "output_type": "stream",
     "text": [
      "123456789 <class 'int'>\n",
      " I am learning Python <class 'str'>\n",
      "17 <class 'int'>\n",
      "3.142 <class 'float'>\n",
      "eddy\n",
      "edy\n"
     ]
    }
   ],
   "source": [
    "# Variable - Its the name of a value for future reference\n",
    "# variable = value \n",
    "# = - assignemt op\n",
    "\n",
    "a = 123456789\n",
    "message = \" I am learning Python\"\n",
    "n = 17\n",
    "pi = 3.142\n",
    "\n",
    "print(a, type(a))\n",
    "print(message, type(message))\n",
    "print(n, type(n))\n",
    "print(pi, type(pi))\n",
    "\n",
    "# variable can change throughout the program\n",
    "\n",
    "name = 'eddy'\n",
    "print(name)\n",
    "\n",
    "name  = 'edy'\n",
    "print(name)"
   ]
  },
  {
   "cell_type": "markdown",
   "id": "6fcd2a75-cad2-41d5-82aa-fbf2143ffc2c",
   "metadata": {},
   "source": [
    "# Rules for variables\n",
    "\n",
    "1. Cannot use number in the beginning\n",
    "\n",
    "2. can keep uppercase - lower is prefered\n",
    "\n",
    "3. Cannot use keywords or special chars\n",
    "\n",
    "4. camelcase is prefered - mySecondName"
   ]
  },
  {
   "cell_type": "code",
   "execution_count": 36,
   "id": "3d75f63d-4519-4272-8cfd-44e26b169961",
   "metadata": {},
   "outputs": [
    {
     "name": "stdout",
     "output_type": "stream",
     "text": [
      "a= 20\n",
      "b= 10\n"
     ]
    }
   ],
   "source": [
    "# program to switch values\n",
    "\n",
    "a = 10\n",
    "b = 20\n",
    "\n",
    "c = 0\n",
    "c = a\n",
    "# now a is 0 \n",
    "a = b\n",
    "# now b is 0 \n",
    "b = c\n",
    "\n",
    "print(\"a=\",a)\n",
    "print(\"b=\",b)"
   ]
  },
  {
   "cell_type": "markdown",
   "id": "063a3675-50cf-4c53-9b63-d8c6c21e64c9",
   "metadata": {},
   "source": [
    "# Operators\n",
    "\n",
    "Priority of Operations:\n",
    "PEMDAS - parentheses, exponents, Mul, Divi, Add, Sub\n",
    "\n",
    "\n",
    "1. '+'\n",
    "\n",
    "2. '-'\n",
    "\n",
    "3. '/'\n",
    "\n",
    "4. '*'\n",
    "\n",
    "5. '//' - gives only quotient\n",
    "\n",
    "6. '**' - power of a numeber\n",
    "\n",
    "7. '*' - remainder  -if divisible or not "
   ]
  },
  {
   "cell_type": "code",
   "execution_count": 49,
   "id": "814c89d6-9d9a-4489-ad28-2e639c34669a",
   "metadata": {},
   "outputs": [
    {
     "name": "stdout",
     "output_type": "stream",
     "text": [
      "a: 20\n",
      "b: 10\n",
      "30\n",
      "10\n",
      "200\n",
      "2.0\n",
      "2\n",
      "10240000000000\n",
      "0\n"
     ]
    }
   ],
   "source": [
    "print(\"a:\",a)\n",
    "print(\"b:\",b)\n",
    "\n",
    "print(a+b)\n",
    "\n",
    "print(a-b)\n",
    "\n",
    "print(a*b)\n",
    "\n",
    "print(a/b)\n",
    "\n",
    "print(a//b)\n",
    "\n",
    "print(a ** b)\n",
    "\n",
    "print(a%b)"
   ]
  },
  {
   "cell_type": "code",
   "execution_count": 47,
   "id": "417d16f1-2438-42bb-9c91-f1bd7961501e",
   "metadata": {},
   "outputs": [
    {
     "name": "stdout",
     "output_type": "stream",
     "text": [
      "3.0\n",
      "3\n"
     ]
    }
   ],
   "source": [
    "print(2*2+2/2-2)\n",
    "\n",
    "print(4 + 1 - 2)"
   ]
  },
  {
   "cell_type": "code",
   "execution_count": 53,
   "id": "9f684779-a55a-45f2-82ba-8314b4cb840c",
   "metadata": {},
   "outputs": [
    {
     "name": "stdout",
     "output_type": "stream",
     "text": [
      "Hello Python\n",
      "eddy eddy eddy \n"
     ]
    }
   ],
   "source": [
    "# String Operations \n",
    "\n",
    "print(\"Hello\" + \" \" + \"Python\") # addition - concat\n",
    "\n",
    "print(3 * 'eddy ')"
   ]
  },
  {
   "cell_type": "markdown",
   "id": "02026552-2c68-4508-bc33-6e08df5623ec",
   "metadata": {},
   "source": [
    "# Everything related to VALUE OPERATOR AND VARIABLES TOGETHER IS CALLED EXPRESSIONS"
   ]
  },
  {
   "cell_type": "markdown",
   "id": "1d76bf8a-f5ad-4e25-b81b-17e7f47b616c",
   "metadata": {},
   "source": [
    "# User Input for variables "
   ]
  },
  {
   "cell_type": "code",
   "execution_count": 54,
   "id": "3709365d-905e-45e9-ba00-d4c2f9f745c5",
   "metadata": {},
   "outputs": [
    {
     "name": "stdin",
     "output_type": "stream",
     "text": [
      "What is your name :  Eddy\n"
     ]
    },
    {
     "data": {
      "text/plain": [
       "'Eddy'"
      ]
     },
     "execution_count": 54,
     "metadata": {},
     "output_type": "execute_result"
    }
   ],
   "source": [
    "input(\"What is your name : \")"
   ]
  },
  {
   "cell_type": "code",
   "execution_count": 59,
   "id": "86d50577-535f-415a-af64-4d5452e55e3d",
   "metadata": {},
   "outputs": [
    {
     "name": "stdin",
     "output_type": "stream",
     "text": [
      "What is your name :  eddy\n"
     ]
    },
    {
     "name": "stdout",
     "output_type": "stream",
     "text": [
      "Hello eddy\n"
     ]
    }
   ],
   "source": [
    "print(\"Hello \" + input(\"What is your name : \"),end='\\n')"
   ]
  },
  {
   "cell_type": "code",
   "execution_count": 67,
   "id": "f8f2349a-f021-45ed-aa70-a9d14354f866",
   "metadata": {},
   "outputs": [
    {
     "name": "stdin",
     "output_type": "stream",
     "text": [
      "what is your name? :  eddy\n"
     ]
    },
    {
     "name": "stdout",
     "output_type": "stream",
     "text": [
      "eddy\n",
      "output : 4\n"
     ]
    }
   ],
   "source": [
    "# Input output practice\n",
    "\n",
    "# len() does not support integer \n",
    "\n",
    "name = input(\"what is your name? : \")\n",
    "print(name)\n",
    "\n",
    "length = len(name)\n",
    "type(length)\n",
    "print(\"output : \" + str(length)) # type conversion as string cannot add with integer\n"
   ]
  },
  {
   "cell_type": "markdown",
   "id": "4ad3b48c-a8ff-4dfd-ab94-6390cd1c9ec1",
   "metadata": {},
   "source": [
    "# comments in python\n",
    "\n",
    "what ever after # is python\n",
    "\n",
    "#this is a comment\n",
    "\n",
    "ctrl + /  - comments "
   ]
  },
  {
   "cell_type": "code",
   "execution_count": 74,
   "id": "4b353695-d019-4950-95ce-47dfa5d56005",
   "metadata": {},
   "outputs": [
    {
     "name": "stdin",
     "output_type": "stream",
     "text": [
      "Enter number of years 2000\n"
     ]
    },
    {
     "name": "stdout",
     "output_type": "stream",
     "text": [
      "2000\n",
      "There are 104000 weeks in 2000 years\n"
     ]
    }
   ],
   "source": [
    "# practice\n",
    "\n",
    "year = input(\"Enter number of years\")\n",
    "print(year)\n",
    "weeks = int(year) * 52 # typecasting\n",
    "print(\"There are \" + str(weeks) + \" weeks in \" + year + \" years\") # typecasting"
   ]
  },
  {
   "cell_type": "markdown",
   "id": "7aae9713-d325-4aea-9661-7933b1092100",
   "metadata": {},
   "source": [
    "# f-string in python"
   ]
  },
  {
   "cell_type": "code",
   "execution_count": 75,
   "id": "1d00eb64-13b7-4f20-9315-cfc5be3e1564",
   "metadata": {},
   "outputs": [
    {
     "name": "stdout",
     "output_type": "stream",
     "text": [
      "There are 104000  weeks in 2000 years\n"
     ]
    }
   ],
   "source": [
    "print(f\"There are {weeks}  weeks in {year} years\") # typecasting"
   ]
  },
  {
   "cell_type": "code",
   "execution_count": 83,
   "id": "b88ea3f1-3705-47d3-b0d1-e28b08f1c657",
   "metadata": {},
   "outputs": [
    {
     "name": "stdout",
     "output_type": "stream",
     "text": [
      "3\n",
      "4\n",
      "3.6667\n"
     ]
    }
   ],
   "source": [
    "# round() - rounds to nearest integer\n",
    "\n",
    "print(int(10/3))\n",
    "\n",
    "print(round(11/3))\n",
    "\n",
    "print(round(11/3,4)) # decimal place "
   ]
  },
  {
   "cell_type": "code",
   "execution_count": 85,
   "id": "31d558c4-9ba8-400b-8c57-4340dd103447",
   "metadata": {},
   "outputs": [
    {
     "data": {
      "text/plain": [
       "float"
      ]
     },
     "execution_count": 85,
     "metadata": {},
     "output_type": "execute_result"
    }
   ],
   "source": [
    "type(int(6.5)/int(\"2\"))"
   ]
  },
  {
   "cell_type": "markdown",
   "id": "cabbad8c-25fd-4b7c-bee1-204e05f0476d",
   "metadata": {},
   "source": [
    "# Real World Project"
   ]
  },
  {
   "cell_type": "code",
   "execution_count": 98,
   "id": "1e143831-4d3b-4366-ae0a-4387fdd120ed",
   "metadata": {},
   "outputs": [
    {
     "name": "stdin",
     "output_type": "stream",
     "text": [
      "enter your name:  Eddy\n"
     ]
    },
    {
     "name": "stdout",
     "output_type": "stream",
     "text": [
      "Hello Eddy\n",
      "Welcome to the Python Class\n"
     ]
    }
   ],
   "source": [
    "# Greeting Project\n",
    "\n",
    "name = input(\"enter your name: \")\n",
    "\n",
    "print(f\"Hello {name}\")\n",
    "print(\"Welcome to the Python Class\")\n"
   ]
  },
  {
   "cell_type": "code",
   "execution_count": 104,
   "id": "c8754c28-03b7-4d4f-b21c-42fe712c8df4",
   "metadata": {},
   "outputs": [
    {
     "name": "stdout",
     "output_type": "stream",
     "text": [
      "Welcome to tge Group Name Generator\n"
     ]
    },
    {
     "name": "stdin",
     "output_type": "stream",
     "text": [
      "What's your favorite colour:  Pink\n",
      "What's your favorite animal:  Dog\n"
     ]
    },
    {
     "name": "stdout",
     "output_type": "stream",
     "text": [
      "your group name could be Pink Dogs\n"
     ]
    }
   ],
   "source": [
    "# Group name Generator\n",
    "\n",
    "print(\"Welcome to tge Group Name Generator\")\n",
    "\n",
    "colour = input(\"What's your favorite colour: \")\n",
    "animal = input(\"What's your favorite animal: \")\n",
    "\n",
    "print(f\"your group name could be {colour} {animal}s\")"
   ]
  },
  {
   "cell_type": "code",
   "execution_count": 112,
   "id": "49ff994d-51c2-4be3-9bce-ca2925283d1d",
   "metadata": {},
   "outputs": [
    {
     "name": "stdin",
     "output_type": "stream",
     "text": [
      "enter the number of hours 22\n",
      "enter the rates 12.22\n"
     ]
    },
    {
     "name": "stdout",
     "output_type": "stream",
     "text": [
      "GrossPay : 268.84\n"
     ]
    }
   ],
   "source": [
    "# Gross pay\n",
    "\n",
    "hours = float(input(\"enter the number of hours\"))\n",
    "rate = float(input(\"enter the rates\"))\n",
    "\n",
    "grossPay = round(hours * rate,2)\n",
    "\n",
    "print(f\"GrossPay : {grossPay}\")"
   ]
  },
  {
   "cell_type": "code",
   "execution_count": 116,
   "id": "ab821ee6-3f74-4570-8c22-1af0db49e404",
   "metadata": {},
   "outputs": [
    {
     "name": "stdin",
     "output_type": "stream",
     "text": [
      " Enter temprature in Celsius:  33.33\n"
     ]
    },
    {
     "name": "stdout",
     "output_type": "stream",
     "text": [
      " 33.33 Celsius is 91.99 Fahrenheit\n"
     ]
    }
   ],
   "source": [
    "# Celsius to Fahrenheit\n",
    "\n",
    "temp = float(input(\" Enter temprature in Celsius: \"))\n",
    "\n",
    "convert = round((temp * 9/5) + 32,2)\n",
    "\n",
    "print(f\" {temp} Celsius is {convert} Fahrenheit\")"
   ]
  },
  {
   "cell_type": "code",
   "execution_count": 122,
   "id": "e95888ee-01fa-44bb-81c4-579e312a9a7a",
   "metadata": {},
   "outputs": [
    {
     "name": "stdout",
     "output_type": "stream",
     "text": [
      "Welcome to the Trip Cost Calculator!\n"
     ]
    },
    {
     "name": "stdin",
     "output_type": "stream",
     "text": [
      "How many days will you stay? $ 12\n",
      "How much does hotel cost per night? $ 22.2\n",
      "How much does flight cost? $ 222.6\n",
      "If you need rental car please enter the price otherwise enter zero $ 22.33\n",
      "Enter other possible expences $ 12.33\n"
     ]
    },
    {
     "name": "stdout",
     "output_type": "stream",
     "text": [
      "Total Cost : 769.29\n"
     ]
    }
   ],
   "source": [
    "# trip cost - calculator\n",
    "\n",
    "print(\"Welcome to the Trip Cost Calculator!\")\n",
    "\n",
    "stayDays = float(input(\"How many days will you stay? $\"))\n",
    "hotalPrice = float(input(\"How much does hotel cost per night? $\"))\n",
    "flightPrice = float(input(\"How much does flight cost? $\"))\n",
    "carRentalPrice = float(input(\"If you need rental car please enter the price otherwise enter zero $\"))\n",
    "otherExpences = float(input(\"Enter other possible expences $\"))\n",
    "\n",
    "totalCost = round(stayDays * (carRentalPrice + hotalPrice ) + flightPrice + otherExpences,2)\n",
    "\n",
    "print(f\"Total Cost : {totalCost}\")"
   ]
  },
  {
   "cell_type": "markdown",
   "id": "6434cf1d-80ac-4aff-9385-cadb905f844b",
   "metadata": {},
   "source": [
    "# Conditional Execution"
   ]
  },
  {
   "cell_type": "code",
   "execution_count": 136,
   "id": "7b3c4c66-130b-44c1-8391-a0eaa76c3040",
   "metadata": {},
   "outputs": [
    {
     "name": "stdout",
     "output_type": "stream",
     "text": [
      "True\n",
      "False\n",
      "**********\n",
      "False\n",
      "True\n",
      "**********\n",
      "False\n",
      "False\n",
      "False\n",
      "True\n",
      "**********\n",
      "True\n",
      "False\n",
      "True\n",
      "True\n",
      "**********\n",
      "True\n",
      "False\n"
     ]
    }
   ],
   "source": [
    "# Boolean Expression - True or False \n",
    "\n",
    "# \"==\" - equal operator\n",
    "print(1 == 1)\n",
    "print(1 == 2)\n",
    "type(True) \n",
    "type(False)\n",
    "\n",
    "print(\"*\" * 10)\n",
    "\n",
    "# \"!=\" - equal operator\n",
    "print(1 != 1)\n",
    "print(1 != 2)\n",
    "\n",
    "print(\"*\" * 10)\n",
    "\n",
    "# Greater and less than operator\n",
    "\n",
    "print(1 > 1)\n",
    "print(1 > 2)\n",
    "\n",
    "print(1 < 1)\n",
    "print(1 < 2)\n",
    "\n",
    "print(\"*\" * 10)\n",
    "\n",
    "# Greater and less than equalto operator\n",
    "\n",
    "print(1 >= 1)\n",
    "print(1 >= 2)\n",
    "\n",
    "print(1 <= 1)\n",
    "print(1 <= 2)\n",
    "\n",
    "print(\"*\" * 10)\n",
    "\n",
    "# is and is not operator\n",
    "\n",
    "x = 1\n",
    "y = 2\n",
    "\n",
    "print(y is not x )\n",
    "print(y is x )"
   ]
  },
  {
   "cell_type": "markdown",
   "id": "93a8e115-119b-4471-9487-9f27de8ddd23",
   "metadata": {},
   "source": [
    "# If statement"
   ]
  },
  {
   "cell_type": "code",
   "execution_count": 137,
   "id": "896fe696-4a06-4123-b6bf-0229f5275b39",
   "metadata": {},
   "outputs": [],
   "source": [
    "# if condition:\n",
    "#    do this operation\n",
    "# else:\n",
    "#    Do this "
   ]
  },
  {
   "cell_type": "code",
   "execution_count": 140,
   "id": "b368d9bf-7c74-4372-9465-eaf82618bde4",
   "metadata": {},
   "outputs": [
    {
     "name": "stdin",
     "output_type": "stream",
     "text": [
      "Enter the temprature 12\n"
     ]
    },
    {
     "name": "stdout",
     "output_type": "stream",
     "text": [
      "Wear a Coat\n"
     ]
    }
   ],
   "source": [
    "temprature = float(input(\"Enter the temprature\"))\n",
    "if temprature > 20:\n",
    "    print(\"Do not wear a coat\")\n",
    "else:\n",
    "    print(\"Wear a Coat\")"
   ]
  },
  {
   "cell_type": "code",
   "execution_count": 146,
   "id": "5d2c7f03-a0ea-4eab-bc60-4dc96e73b077",
   "metadata": {},
   "outputs": [
    {
     "name": "stdout",
     "output_type": "stream",
     "text": [
      "Welcome to the Loan eligibility Calculator\n"
     ]
    },
    {
     "name": "stdin",
     "output_type": "stream",
     "text": [
      "Enter your salary:  32000\n"
     ]
    },
    {
     "name": "stdout",
     "output_type": "stream",
     "text": [
      "You are eligible for a loan\n",
      "Thank you for using the Loan eligibility Calculator!\n"
     ]
    }
   ],
   "source": [
    "# Loan eligibility\n",
    "\n",
    "print(\"Welcome to the Loan eligibility Calculator\")\n",
    "salary = float(input(\"Enter your salary: \"))\n",
    "\n",
    "if salary >= 20000:\n",
    "    print(\"You are eligible for a loan\")\n",
    "else:\n",
    "    print(\"Sorry you are not eligible for a loan\")\n",
    "\n",
    "print(\"Thank you for using the Loan eligibility Calculator!\")"
   ]
  },
  {
   "cell_type": "code",
   "execution_count": 151,
   "id": "601075f2-beaa-453b-bcc4-2b0b4719aec3",
   "metadata": {},
   "outputs": [
    {
     "name": "stdin",
     "output_type": "stream",
     "text": [
      "Enter a number :  44\n"
     ]
    },
    {
     "name": "stdout",
     "output_type": "stream",
     "text": [
      "Output : Even\n"
     ]
    }
   ],
   "source": [
    "# Odd or even\n",
    "\n",
    "number = int(input(\"Enter a number : \"))\n",
    "\n",
    "oddOrEven = number % 2\n",
    "\n",
    "if oddOrEven == 0:\n",
    "    print(\"Output : Even\")\n",
    "else:\n",
    "    print(\"Output : Odd\")"
   ]
  },
  {
   "cell_type": "markdown",
   "id": "ea3d645b-b38b-4a9f-a96d-31816d703c90",
   "metadata": {},
   "source": [
    "# Nested Conditions \n",
    "\n",
    "Nested If else"
   ]
  },
  {
   "cell_type": "code",
   "execution_count": 154,
   "id": "9bcd51f0-db92-4384-9bd5-8c36094623bb",
   "metadata": {},
   "outputs": [
    {
     "name": "stdout",
     "output_type": "stream",
     "text": [
      "Welcome to the Loan eligibility Calculator\n"
     ]
    },
    {
     "name": "stdin",
     "output_type": "stream",
     "text": [
      "Enter your salary:  21000\n"
     ]
    },
    {
     "name": "stdout",
     "output_type": "stream",
     "text": [
      "You are eligible for a loan\n"
     ]
    },
    {
     "name": "stdin",
     "output_type": "stream",
     "text": [
      "Enter your Credit Score? 820\n"
     ]
    },
    {
     "name": "stdout",
     "output_type": "stream",
     "text": [
      "interest: 4%\n",
      "Thank you for using the Loan eligibility Calculator!\n"
     ]
    }
   ],
   "source": [
    "# Loan eligibility - Continued\n",
    "# adding credit score - > 800 - 4%  and <= 800 - 6%\n",
    "\n",
    "print(\"Welcome to the Loan eligibility Calculator\")\n",
    "salary = float(input(\"Enter your salary: \"))\n",
    "\n",
    "if salary >= 20000:\n",
    "    print(\"You are eligible for a loan\")\n",
    "    \n",
    "    creditScore = int(input(\"Enter your Credit Score?\"))\n",
    "    if creditScore > 800:\n",
    "        print(\"interest: 4%\")\n",
    "    else:\n",
    "        print(\"interest: 6%\")\n",
    "\n",
    "else:\n",
    "    print(\"Sorry you are not eligible for a loan\")\n",
    "\n",
    "print(\"Thank you for using the Loan eligibility Calculator!\")"
   ]
  },
  {
   "cell_type": "markdown",
   "id": "35b18036-d36f-4f85-8a20-54b5b3a89a92",
   "metadata": {},
   "source": [
    "# Chained Conditional\n",
    "\n",
    "Elif Conditions - only 1 will be executed"
   ]
  },
  {
   "cell_type": "code",
   "execution_count": 161,
   "id": "856eb35f-e37d-4aac-8cc8-274ccec01154",
   "metadata": {},
   "outputs": [
    {
     "name": "stdout",
     "output_type": "stream",
     "text": [
      "Welcome to the Loan eligibility Calculator\n"
     ]
    },
    {
     "name": "stdin",
     "output_type": "stream",
     "text": [
      "Enter your salary:  21000\n"
     ]
    },
    {
     "name": "stdout",
     "output_type": "stream",
     "text": [
      "You are eligible for a loan\n"
     ]
    },
    {
     "name": "stdin",
     "output_type": "stream",
     "text": [
      "Enter your Credit Score? 600\n"
     ]
    },
    {
     "name": "stdout",
     "output_type": "stream",
     "text": [
      "interest: 8%\n",
      "Thank you for using the Loan eligibility Calculator!\n"
     ]
    }
   ],
   "source": [
    "# Loan eligibility - Continued\n",
    "# adding credit score - > 800 - 4%  \n",
    "                    # and 750 <= 800 - 6% \n",
    "                    # and <=750 - 8%\n",
    "\n",
    "print(\"Welcome to the Loan eligibility Calculator\")\n",
    "salary = float(input(\"Enter your salary: \"))\n",
    "\n",
    "if salary >= 20000:\n",
    "    print(\"You are eligible for a loan\")\n",
    "    \n",
    "    creditScore = int(input(\"Enter your Credit Score?\"))\n",
    "    if creditScore >= 800:\n",
    "        print(\"interest: 4%\")\n",
    "    elif creditScore >= 750:\n",
    "        print(\"interest: 6%\")\n",
    "    else:\n",
    "        print(\"interest: 8%\")\n",
    "\n",
    "else:\n",
    "    print(\"Sorry you are not eligible for a loan\")\n",
    "\n",
    "print(\"Thank you for using the Loan eligibility Calculator!\")"
   ]
  },
  {
   "cell_type": "code",
   "execution_count": 172,
   "id": "c221652e-92e9-4671-b799-10d7257d4cff",
   "metadata": {},
   "outputs": [
    {
     "name": "stdin",
     "output_type": "stream",
     "text": [
      "Enter your height in m:  1.5\n",
      "Enter your weight in kg:  50\n"
     ]
    },
    {
     "name": "stdout",
     "output_type": "stream",
     "text": [
      "22.22\n",
      "normal\n"
     ]
    }
   ],
   "source": [
    "# BMI Calculator\n",
    "\n",
    "height = float(input(\"Enter your height in m: \"))\n",
    "weight =  float(input(\"Enter your weight in kg: \"))\n",
    "\n",
    "bmi = round(weight/height ** 2,2)\n",
    "print(bmi)\n",
    "if bmi > 30:\n",
    "    print(\"obese\")\n",
    "elif bmi > 25:\n",
    "    print(\"overweight\")\n",
    "elif bmi > 18.5:\n",
    "    print(\"normal\")\n",
    "else:\n",
    "    print(\"underweight\")"
   ]
  },
  {
   "cell_type": "markdown",
   "id": "3004df9f-a9cf-4f17-92a1-3ee1043dd4d2",
   "metadata": {},
   "source": [
    "# Multiple if's"
   ]
  },
  {
   "cell_type": "code",
   "execution_count": 175,
   "id": "5f7ac43e-a300-4ae3-841d-f814b66f56bc",
   "metadata": {},
   "outputs": [
    {
     "name": "stdout",
     "output_type": "stream",
     "text": [
      "Welcome to the Loan eligibility Calculator\n"
     ]
    },
    {
     "name": "stdin",
     "output_type": "stream",
     "text": [
      "Enter your salary:  21000\n"
     ]
    },
    {
     "name": "stdout",
     "output_type": "stream",
     "text": [
      "You are eligible for a loan\n"
     ]
    },
    {
     "name": "stdin",
     "output_type": "stream",
     "text": [
      "Enter your Credit Score? 800\n"
     ]
    },
    {
     "name": "stdout",
     "output_type": "stream",
     "text": [
      "interest: 4%\n"
     ]
    },
    {
     "name": "stdin",
     "output_type": "stream",
     "text": [
      "Do you have any disability? Y or N :  Y\n"
     ]
    },
    {
     "name": "stdout",
     "output_type": "stream",
     "text": [
      "Final Interest rate : 2%\n",
      "Thank you for using the Loan eligibility Calculator!\n"
     ]
    }
   ],
   "source": [
    "# Loan eligibility - Continued\n",
    "# adding credit score - > 800 - 4%  \n",
    "                    # and 750 <= 800 - 6% \n",
    "                    # and <=750 - 8%\n",
    "# diability - '-2%'\n",
    "\n",
    "print(\"Welcome to the Loan eligibility Calculator\")\n",
    "salary = float(input(\"Enter your salary: \"))\n",
    "rate = 0\n",
    "\n",
    "if salary >= 20000:\n",
    "    print(\"You are eligible for a loan\")\n",
    "    \n",
    "    creditScore = int(input(\"Enter your Credit Score?\"))\n",
    "    if creditScore >= 800:\n",
    "        rate = 4 \n",
    "        print(f\"interest: {rate}%\")\n",
    "    elif creditScore >= 750:\n",
    "        rate = 6\n",
    "        print(f\"interest: {rate}%\")\n",
    "    else:\n",
    "        rate = 8\n",
    "        print(f\"interest: {rate}%\")\n",
    "        \n",
    "    disability = input(\"Do you have any disability? Y or N : \")\n",
    "    if disability == \"Y\":\n",
    "        rate -= 2\n",
    "    print(f\"Final Interest rate : {rate}%\")\n",
    "\n",
    "else:\n",
    "    print(\"Sorry you are not eligible for a loan\")\n",
    "\n",
    "print(\"Thank you for using the Loan eligibility Calculator!\")"
   ]
  },
  {
   "cell_type": "code",
   "execution_count": 180,
   "id": "bb57c4cc-de42-4206-b1e2-87782f8ddc0e",
   "metadata": {},
   "outputs": [
    {
     "name": "stdin",
     "output_type": "stream",
     "text": [
      "Enter the Burger Size - M or N or L : \n",
      " \n",
      "Do you need Mushroom? Y or N : \n",
      " N\n",
      "Do you need Extra Cheese? Y or N : \n",
      " N\n"
     ]
    },
    {
     "name": "stdout",
     "output_type": "stream",
     "text": [
      "Your final bill is: $10.\n"
     ]
    }
   ],
   "source": [
    "# Burger Order\n",
    "\n",
    "burgerSize = input(\"Enter the Burger Size - M or N or L : \\n\")\n",
    "addMushroom = input(\"Do you need Mushroom? Y or N : \\n\")\n",
    "extraCheese = input(\"Do you need Extra Cheese? Y or N : \\n\")\n",
    "\n",
    "finalCost = 0\n",
    "\n",
    "if burgerSize == \"M\":\n",
    "    finalCost += 5\n",
    "elif burgerSize == \"N\":\n",
    "    finalCost += 8\n",
    "else :\n",
    "    finalCost += 10\n",
    "\n",
    "if addMushroom == \"Y\":\n",
    "    if burgerSize == \"L\":\n",
    "        finalCost += 2\n",
    "    else:\n",
    "        finalCost += 1\n",
    "if extraCheese == \"Y\":\n",
    "    finalCost += 1\n",
    "\n",
    "print(f\"Your final bill is: ${finalCost}.\")"
   ]
  },
  {
   "cell_type": "markdown",
   "id": "e178a5a2-f50d-4acb-b7b1-aa8657ac5ed2",
   "metadata": {},
   "source": [
    "# Logical Operator - Using Multiple Conditions\n",
    "\n",
    "and - if 1 is false - output will be false\n",
    "\n",
    "or - if 1 is True and other all is false  - output will be True\n",
    "\n",
    "not - reverse the output - if true then False and vise varsa "
   ]
  },
  {
   "cell_type": "code",
   "execution_count": 184,
   "id": "dcbdb443-0253-4224-91e7-1d948deed6dd",
   "metadata": {},
   "outputs": [
    {
     "name": "stdout",
     "output_type": "stream",
     "text": [
      "Welcome to the Loan eligibility Calculator\n"
     ]
    },
    {
     "name": "stdin",
     "output_type": "stream",
     "text": [
      "Enter your salary:  21000\n"
     ]
    },
    {
     "name": "stdout",
     "output_type": "stream",
     "text": [
      "You are eligible for a loan\n"
     ]
    },
    {
     "name": "stdin",
     "output_type": "stream",
     "text": [
      "Enter your Credit Score? 980\n"
     ]
    },
    {
     "name": "stdout",
     "output_type": "stream",
     "text": [
      "interest: 3%\n"
     ]
    },
    {
     "name": "stdin",
     "output_type": "stream",
     "text": [
      "Do you have any disability? Y or N :  Y\n"
     ]
    },
    {
     "name": "stdout",
     "output_type": "stream",
     "text": [
      "Final Interest rate : 1%\n",
      "Thank you for using the Loan eligibility Calculator!\n"
     ]
    }
   ],
   "source": [
    "# Loan eligibility - Continued\n",
    "# adding credit score - > 800 - 4%  \n",
    "                    # and 750 <= 800 - 6% \n",
    "                    # and <=750 - 8%\n",
    "# diability - '-2%'\n",
    "# id credit score between 900 and 1000 the n- interest = 3%\n",
    "\n",
    "print(\"Welcome to the Loan eligibility Calculator\")\n",
    "salary = float(input(\"Enter your salary: \"))\n",
    "rate = 0\n",
    "\n",
    "if salary >= 20000:\n",
    "    print(\"You are eligible for a loan\")\n",
    "    \n",
    "    creditScore = int(input(\"Enter your Credit Score?\"))\n",
    "    if creditScore > 800 and creditScore <= 1000:\n",
    "        rate = 3\n",
    "        print(f\"interest: {rate}%\")\n",
    "    elif creditScore >= 800:\n",
    "        rate = 4 \n",
    "        print(f\"interest: {rate}%\")\n",
    "    elif creditScore >= 750:\n",
    "        rate = 6\n",
    "        print(f\"interest: {rate}%\")\n",
    "    else:\n",
    "        rate = 8\n",
    "        print(f\"interest: {rate}%\")\n",
    "        \n",
    "    disability = input(\"Do you have any disability? Y or N : \")\n",
    "    if disability == \"Y\":\n",
    "        rate -= 2\n",
    "    print(f\"Final Interest rate : {rate}%\")\n",
    "\n",
    "else:\n",
    "    print(\"Sorry you are not eligible for a loan\")\n",
    "\n",
    "print(\"Thank you for using the Loan eligibility Calculator!\")"
   ]
  },
  {
   "cell_type": "markdown",
   "id": "5fe2465a-c4a4-4cf3-9a55-b5e24956dc81",
   "metadata": {},
   "source": [
    "# Try and Except\n",
    "\n",
    "## used to execute a statement if there is an error\n",
    "\n",
    "try: executes a block of code that might cause error\n",
    "\n",
    "except: do this part id there is an error\n",
    "\n",
    "else: do this if there was not an excemption\n",
    "\n",
    "finally: Do this no matter what happens"
   ]
  },
  {
   "cell_type": "code",
   "execution_count": 187,
   "id": "7128d93b-b0db-4ac2-8699-68e04b9fdb01",
   "metadata": {},
   "outputs": [
    {
     "name": "stdout",
     "output_type": "stream",
     "text": [
      "Welcome to the Loan eligibility Calculator\n"
     ]
    },
    {
     "name": "stdin",
     "output_type": "stream",
     "text": [
      "Enter your salary:  21000\n"
     ]
    },
    {
     "name": "stdout",
     "output_type": "stream",
     "text": [
      "You are eligible for a loan\n"
     ]
    },
    {
     "name": "stdin",
     "output_type": "stream",
     "text": [
      "Enter your Credit Score? 810\n"
     ]
    },
    {
     "name": "stdout",
     "output_type": "stream",
     "text": [
      "interest: 3%\n"
     ]
    },
    {
     "name": "stdin",
     "output_type": "stream",
     "text": [
      "Do you have any disability? Y or N :  Y\n"
     ]
    },
    {
     "name": "stdout",
     "output_type": "stream",
     "text": [
      "Final Interest rate : 1%\n"
     ]
    }
   ],
   "source": [
    "# Loan eligibility - Continued\n",
    "# adding credit score - > 800 - 4%  \n",
    "                    # and 750 <= 800 - 6% \n",
    "                    # and <=750 - 8%\n",
    "# diability - '-2%'\n",
    "# id credit score between 900 and 1000 the n- interest = 3%\n",
    "# Try and except\n",
    "\n",
    "print(\"Welcome to the Loan eligibility Calculator\")\n",
    "try:\n",
    "    salary = float(input(\"Enter your salary: \"))\n",
    "except:\n",
    "    print(\"Enter correct Salary\")\n",
    "    salary = float(input(\"Enter your salary: \"))\n",
    "\n",
    "else:\n",
    "    rate = 0\n",
    "if salary >= 20000:\n",
    "    print(\"You are eligible for a loan\")\n",
    "    \n",
    "    creditScore = int(input(\"Enter your Credit Score?\"))\n",
    "    if creditScore > 800 and creditScore <= 1000:\n",
    "        rate = 3\n",
    "        print(f\"interest: {rate}%\")\n",
    "    elif creditScore >= 800:\n",
    "        rate = 4 \n",
    "        print(f\"interest: {rate}%\")\n",
    "    elif creditScore >= 750:\n",
    "        rate = 6\n",
    "        print(f\"interest: {rate}%\")\n",
    "    else:\n",
    "        rate = 8\n",
    "        print(f\"interest: {rate}%\")\n",
    "        \n",
    "    disability = input(\"Do you have any disability? Y or N : \")\n",
    "    if disability == \"Y\":\n",
    "        rate -= 2\n",
    "    print(f\"Final Interest rate : {rate}%\")\n",
    "\n",
    "else:\n",
    "    print(\"Sorry you are not eligible for a loan\")"
   ]
  },
  {
   "cell_type": "markdown",
   "id": "2138ccea-d57b-4fa0-8ffb-b43c9539c3f4",
   "metadata": {},
   "source": [
    "# Realtime Projects"
   ]
  },
  {
   "cell_type": "code",
   "execution_count": 189,
   "id": "cfeb7d09-2659-43d4-b71b-e64ef69ec395",
   "metadata": {},
   "outputs": [
    {
     "name": "stdin",
     "output_type": "stream",
     "text": [
      "enter the number of hours 60\n",
      "enter the rates 1.4\n"
     ]
    },
    {
     "name": "stdout",
     "output_type": "stream",
     "text": [
      "GrossPay : 98.0\n"
     ]
    }
   ],
   "source": [
    "# Gross pay - Continued \n",
    "# if hours is more than 40 then 1.5\n",
    "\n",
    "hours = float(input(\"enter the number of hours\"))\n",
    "rate = float(input(\"enter the rates\"))\n",
    "\n",
    "if hours < 40:\n",
    "    grossPay = round(hours * rate,2)\n",
    "elif hours > 40 :\n",
    "    overtime = abs(hours - 40)\n",
    "    grossPay = round((40 * rate) + (overtime * rate * 1.5),2)\n",
    "    \n",
    "print(f\"GrossPay : {grossPay}\")"
   ]
  },
  {
   "cell_type": "code",
   "execution_count": 193,
   "id": "398fc8cc-57b1-4719-a75e-6d8b29051fbf",
   "metadata": {},
   "outputs": [
    {
     "name": "stdin",
     "output_type": "stream",
     "text": [
      "Enter the Year 2000\n"
     ]
    },
    {
     "name": "stdout",
     "output_type": "stream",
     "text": [
      "Leap Year\n"
     ]
    }
   ],
   "source": [
    "# Leap year\n",
    "# normal days = 365\n",
    "# leap year = 366\n",
    "\n",
    "# year % 4 == 0 then yes else no\n",
    "# year % 100 ==0 then not leap year\n",
    "# year % 400 == 0 then yes else no\n",
    "\n",
    "year = int(input(\"Enter the Year\"))\n",
    "\n",
    "if year % 4 == 0:\n",
    "           if year % 100 == 0:\n",
    "                if year % 400 == 0:\n",
    "                    print(\"Leap Year\")\n",
    "                else:\n",
    "                    print(\"Not Leap Year\")\n",
    "           else :\n",
    "                print(\"Leap Year\")              \n",
    "else:\n",
    "           print(\"Not leap year\")\n"
   ]
  },
  {
   "cell_type": "code",
   "execution_count": 204,
   "id": "6056ffbb-c683-45f8-b2a4-ef62f36f923c",
   "metadata": {},
   "outputs": [
    {
     "name": "stdout",
     "output_type": "stream",
     "text": [
      " Welcome to Love Calculator!!\n"
     ]
    },
    {
     "name": "stdin",
     "output_type": "stream",
     "text": [
      "Enter your Name :  spoo\n",
      "Enter your Lovers Name :  raghu\n"
     ]
    },
    {
     "name": "stdout",
     "output_type": "stream",
     "text": [
      "22\n",
      " your score in 22, you are alright\n"
     ]
    }
   ],
   "source": [
    "# Love Calculator\n",
    "\n",
    "print(\" Welcome to Love Calculator!!\")\n",
    "\n",
    "yourName = str(input(\"Enter your Name : \"))\n",
    "loverName = str(input(\"Enter your Lovers Name : \"))\n",
    "\n",
    "lowerYourName = yourName.lower()\n",
    "lowerLoverName = loverName.lower()\n",
    "\n",
    "combinedName = lowerYourName + lowerLoverName\n",
    "\n",
    "t = combinedName.count(\"t\")\n",
    "r = combinedName.count(\"r\")\n",
    "u = combinedName.count(\"u\")\n",
    "e = combinedName.count(\"e\")\n",
    "\n",
    "trueCount = t + r + u + e\n",
    "\n",
    "l = combinedName.count(\"l\")\n",
    "o = combinedName.count(\"o\")\n",
    "v = combinedName.count(\"v\")\n",
    "e = combinedName.count(\"e\")\n",
    "\n",
    "loveCount = l + o + v + e \n",
    "\n",
    "loveScore = int(str(trueCount) + str(loveCount))\n",
    "print(loveScore)\n",
    "\n",
    "if loveScore < 10 or loveScore > 85:\n",
    "    print(f\" your score in {loveScore}, you go together like coke and mentos.\")\n",
    "elif loveScore >= 40 or loveScore <= 70:\n",
    "    print(f\" your score in {loveScore}, you are alright\")\n",
    "else:\n",
    "    print(f\"your score in {loveScore}\")"
   ]
  },
  {
   "cell_type": "code",
   "execution_count": 1,
   "id": "81fd2b99-cb58-4135-ad06-32a346e54071",
   "metadata": {},
   "outputs": [
    {
     "name": "stdin",
     "output_type": "stream",
     "text": [
      "enter the number of hours 10\n",
      "enter the rates 12\n"
     ]
    },
    {
     "name": "stdout",
     "output_type": "stream",
     "text": [
      "GrossPay : 120.0\n"
     ]
    }
   ],
   "source": [
    "# Gross pay with try and except\n",
    "\n",
    "try:\n",
    "    hours = float(input(\"enter the number of hours\"))\n",
    "    \n",
    "except ValueError: \n",
    "    print(\"error, please enter correct Numaric input for Hour\")\n",
    "    quit()\n",
    "\n",
    "try:\n",
    "    rate = float(input(\"enter the rates\"))\n",
    "    \n",
    "except ValueError: \n",
    "    print(\"error, please enter correct Numaric input for Rate\")\n",
    "    quit()\n",
    "    \n",
    "grossPay = round(hours * rate,2)\n",
    "\n",
    "print(f\"GrossPay : {grossPay}\")"
   ]
  },
  {
   "cell_type": "code",
   "execution_count": 2,
   "id": "71e15c63-bcba-44cd-92c9-0174f8b94e22",
   "metadata": {},
   "outputs": [
    {
     "name": "stdin",
     "output_type": "stream",
     "text": [
      "enter your score between 0 and 1 :  0.1\n"
     ]
    },
    {
     "name": "stdout",
     "output_type": "stream",
     "text": [
      "F\n"
     ]
    }
   ],
   "source": [
    "# Score Checker\n",
    "\n",
    "try:\n",
    "    score = float(input(\"enter your score between 0 and 1 : \"))\n",
    "    if score > 1:\n",
    "        print(\"Out of Score range, Enter a correct range\")\n",
    "        quit()\n",
    "\n",
    "except ValueError:\n",
    "    print(\"Bad input, enter numeric value only\")\n",
    "if score >= 0 and score <= 1:\n",
    "    if score >= 0.9:\n",
    "        print(\"A\")\n",
    "    elif score >= 0.8:\n",
    "        print(\"B\")\n",
    "    elif score >= 0.7:\n",
    "        print(\"C\")\n",
    "    elif score >= 0.6:\n",
    "        print(\"D\")\n",
    "    else:\n",
    "        print(\"F\")\n",
    "else:\n",
    "    print(\"Bad Input\")"
   ]
  },
  {
   "cell_type": "markdown",
   "id": "2282012b-027c-41d4-8930-94c3e2c08959",
   "metadata": {},
   "source": [
    "# Python Functions\n",
    "\n",
    "types of functions \n",
    "\n",
    "1. builtin\n",
    "2. user defined functions\n",
    "3. anonymous functions (lamda function)"
   ]
  },
  {
   "cell_type": "code",
   "execution_count": 3,
   "id": "ce166520-eb9a-444b-8df3-51586d67b33a",
   "metadata": {},
   "outputs": [],
   "source": [
    "# Builtin Functions in python\n",
    "\n",
    "# abs(): Returns the absolute value of a number.\n",
    "# all(): Returns True if all elements of an iterable are true (or if the iterable is empty).\n",
    "# any(): Returns True if any element of an iterable is true. If the iterable is empty, returns False.\n",
    "# ascii(): Returns a string containing a printable representation of an object.\n",
    "# bin(): Converts an integer to a binary string.\n",
    "# bool(): Converts a value to a Boolean, using the standard truth testing procedure.\n",
    "# bytearray(): Returns a new array of bytes.\n",
    "# bytes(): Returns a new bytes object.\n",
    "# callable(): Returns True if the object appears callable, False otherwise.\n",
    "# chr(): Returns a string representing a character whose Unicode code point is the integer.\n",
    "# classmethod(): Transforms a method into a class method.\n",
    "# compile(): Compiles a source into a code or AST object.\n",
    "# complex(): Creates a complex number.\n",
    "# delattr(): Deletes an attribute from an object.\n",
    "# dict(): Creates a dictionary.\n",
    "# dir(): Tries to return a list of valid attributes for the object.\n",
    "# divmod(): Takes two non-complex numbers as arguments and returns a pair of numbers consisting of their quotient and remainder.\n",
    "# enumerate(): Returns an enumerate object.\n",
    "# eval(): Evaluates a Python expression in a given scope.\n",
    "# exec(): Executes dynamically created Python code.\n",
    "# filter(): Constructs an iterator from elements of an iterable for which a function returns true.\n",
    "# float(): Returns a floating point number constructed from a number or string.\n",
    "# format(): Formats a specified value.\n",
    "# frozenset(): Returns a new frozenset object, optionally with elements taken from iterable.\n",
    "# getattr(): Returns the value of a named attribute of an object.\n",
    "# globals(): Returns a dictionary representing the current global symbol table.\n",
    "# hasattr(): Returns True if the object has the named attribute.\n",
    "# hash(): Returns the hash value of the object.\n",
    "# help(): Invokes the built-in help system.\n",
    "# hex(): Converts an integer to a lowercase hexadecimal string.\n",
    "# id(): Returns the identity of an object.\n",
    "# input(): Reads a line from input, converts it to a string (stripping a trailing newline), and returns that.\n",
    "# int(): Converts a number or string to an integer.\n",
    "# isinstance(): Returns True if the object argument is an instance of the classinfo argument.\n",
    "# issubclass(): Returns True if class is a subclass (direct, indirect or virtual) of classinfo.\n",
    "# iter(): Returns an iterator object.\n",
    "# len(): Returns the length (the number of items) of an object.\n",
    "# list(): Creates a new list.\n",
    "# locals(): Updates and returns a dictionary representing the current local symbol table.\n",
    "# map(): Returns an iterator that applies a function to every item of an iterable, yielding the results.\n",
    "# max(): Returns the largest item in an iterable or the largest of two or more arguments.\n",
    "# memoryview(): Returns a memory view object.\n",
    "# min(): Returns the smallest item in an iterable or the smallest of two or more arguments.\n",
    "# next(): Retrieves the next item from the iterator by calling its __next__() method.\n",
    "# object(): Returns a new featureless object.\n",
    "# oct(): Converts an integer to an octal string.\n",
    "# open(): Opens a file and returns a corresponding file object.\n",
    "# ord(): Returns an integer representing the Unicode code point of the given Unicode character.\n",
    "# pow(): Returns the value of x to the power of y.\n",
    "# print(): Prints objects to the text stream file, separated by sep and followed by end.\n",
    "# property(): Returns a property attribute.\n",
    "# range(): Returns an immutable sequence of numbers between the given start integer to the stop integer.\n",
    "# repr(): Returns a string containing a printable representation of an object.\n",
    "# reversed(): Returns a reverse iterator.\n",
    "# round(): Rounds a number to a specified number of decimals.\n",
    "# set(): Creates a new set.\n",
    "# setattr(): Sets the value of an attribute of an object.\n",
    "# slice(): Returns a slice object representing the set of indices specified by range(start, stop, step).\n",
    "# sorted(): Returns a new sorted list from the items in iterable.\n",
    "# staticmethod(): Transforms a method into a static method.\n",
    "# str(): Returns a string version of an object.\n",
    "# sum(): Sums start and the items of an iterable from left to right and returns the total.\n",
    "# super(): Returns a proxy object that delegates method calls to a parent or sibling class.\n",
    "# tuple(): Creates a tuple.\n",
    "# type(): Returns the type of an object or creates a new type object.\n",
    "# vars(): Returns the __dict__ attribute for a module, class, instance, or any other object with a __dict__ attribute.\n",
    "# zip(): Returns an iterator of tuples, where the i-th tuple contains the i-th element from each of the argument sequences or iterables.\n",
    "# __import__(): This function is invoked by the import statement"
   ]
  },
  {
   "cell_type": "code",
   "execution_count": 6,
   "id": "3c6a535a-9cf5-4030-964f-bf85ca47ba00",
   "metadata": {},
   "outputs": [
    {
     "name": "stdout",
     "output_type": "stream",
     "text": [
      "<module 'math' (built-in)>\n",
      "['__doc__', '__loader__', '__name__', '__package__', '__spec__', 'acos', 'acosh', 'asin', 'asinh', 'atan', 'atan2', 'atanh', 'cbrt', 'ceil', 'comb', 'copysign', 'cos', 'cosh', 'degrees', 'dist', 'e', 'erf', 'erfc', 'exp', 'exp2', 'expm1', 'fabs', 'factorial', 'floor', 'fmod', 'frexp', 'fsum', 'gamma', 'gcd', 'hypot', 'inf', 'isclose', 'isfinite', 'isinf', 'isnan', 'isqrt', 'lcm', 'ldexp', 'lgamma', 'log', 'log10', 'log1p', 'log2', 'modf', 'nan', 'nextafter', 'perm', 'pi', 'pow', 'prod', 'radians', 'remainder', 'sin', 'sinh', 'sqrt', 'tan', 'tanh', 'tau', 'trunc', 'ulp']\n"
     ]
    }
   ],
   "source": [
    "# Python Math Module\n",
    "\n",
    "import math\n",
    "\n",
    "print(math)\n",
    "\n",
    "print(dir(math))"
   ]
  },
  {
   "cell_type": "code",
   "execution_count": 9,
   "id": "422c916e-1e2c-4076-a13b-3a150007812e",
   "metadata": {},
   "outputs": [
    {
     "name": "stdout",
     "output_type": "stream",
     "text": [
      "4.0\n",
      "3.141592653589793\n"
     ]
    }
   ],
   "source": [
    "print(math.sqrt(16))\n",
    "\n",
    "print(math.pi)"
   ]
  },
  {
   "cell_type": "code",
   "execution_count": 14,
   "id": "f7f18c42-12ed-484b-a42e-0159f74d95cf",
   "metadata": {},
   "outputs": [
    {
     "name": "stdin",
     "output_type": "stream",
     "text": [
      "Enter the radius of circle :  12\n"
     ]
    },
    {
     "name": "stdout",
     "output_type": "stream",
     "text": [
      " the area of the circle is : 452.39\n"
     ]
    }
   ],
   "source": [
    "# area of circle\n",
    "\n",
    "import math\n",
    "radius = float(input(\"Enter the radius of circle : \"))\n",
    "\n",
    "area = round(math.pi * radius**2,2)\n",
    "\n",
    "print(f\" the area of the circle is : {area}\")"
   ]
  },
  {
   "cell_type": "code",
   "execution_count": 15,
   "id": "36e045b6-646d-480e-a36e-ab72a19f4a2d",
   "metadata": {},
   "outputs": [
    {
     "name": "stdin",
     "output_type": "stream",
     "text": [
      "Enter a number :  4\n"
     ]
    },
    {
     "name": "stdout",
     "output_type": "stream",
     "text": [
      "the factorial of the numebr is 24.\n"
     ]
    }
   ],
   "source": [
    "# factorial of a number \n",
    "\n",
    "import math\n",
    "\n",
    "number = int(input(\"Enter a number : \"))\n",
    "\n",
    "factorial = math.factorial(number)\n",
    "\n",
    "print(f\"the factorial of the numebr is {factorial}.\")"
   ]
  },
  {
   "cell_type": "code",
   "execution_count": 16,
   "id": "bcbece60-a2f2-4891-b734-315145baa58a",
   "metadata": {},
   "outputs": [
    {
     "name": "stdout",
     "output_type": "stream",
     "text": [
      "<module 'random' from 'C:\\\\Users\\\\Admin\\\\anaconda3\\\\Lib\\\\random.py'>\n",
      "['BPF', 'LOG4', 'NV_MAGICCONST', 'RECIP_BPF', 'Random', 'SG_MAGICCONST', 'SystemRandom', 'TWOPI', '_ONE', '_Sequence', '_Set', '__all__', '__builtins__', '__cached__', '__doc__', '__file__', '__loader__', '__name__', '__package__', '__spec__', '_accumulate', '_acos', '_bisect', '_ceil', '_cos', '_e', '_exp', '_floor', '_index', '_inst', '_isfinite', '_log', '_os', '_pi', '_random', '_repeat', '_sha512', '_sin', '_sqrt', '_test', '_test_generator', '_urandom', '_warn', 'betavariate', 'choice', 'choices', 'expovariate', 'gammavariate', 'gauss', 'getrandbits', 'getstate', 'lognormvariate', 'normalvariate', 'paretovariate', 'randbytes', 'randint', 'random', 'randrange', 'sample', 'seed', 'setstate', 'shuffle', 'triangular', 'uniform', 'vonmisesvariate', 'weibullvariate']\n"
     ]
    }
   ],
   "source": [
    "# Random module\n",
    "\n",
    "import random\n",
    "\n",
    "print(random)\n",
    "\n",
    "print(dir(random))"
   ]
  },
  {
   "cell_type": "code",
   "execution_count": 21,
   "id": "6e7bebe1-a461-4b57-9455-f08d912bebea",
   "metadata": {},
   "outputs": [
    {
     "name": "stdout",
     "output_type": "stream",
     "text": [
      "19\n",
      "4.908893207332656\n"
     ]
    }
   ],
   "source": [
    "randomInt = random.randint(10,20)\n",
    "print(randomInt)\n",
    "\n",
    "randomRandom = random.random()\n",
    "random0to5 = randomRandom * 5\n",
    "print(random0to5)"
   ]
  },
  {
   "cell_type": "code",
   "execution_count": 36,
   "id": "bd8595e4-41e2-4269-8a6c-34df089faf26",
   "metadata": {},
   "outputs": [
    {
     "name": "stdout",
     "output_type": "stream",
     "text": [
      "Heads\n"
     ]
    }
   ],
   "source": [
    "# random coin generator\n",
    "\n",
    "import random\n",
    "\n",
    "coinRandom = random.randint(0,1)\n",
    "\n",
    "if coinRandom == 0:\n",
    "    print(\"Tails\")\n",
    "else:\n",
    "    print(\"Heads\")\n",
    "    "
   ]
  },
  {
   "cell_type": "markdown",
   "id": "27e0011f-0181-4b90-9f18-81b3ca8c9156",
   "metadata": {},
   "source": [
    "# User defined function"
   ]
  },
  {
   "cell_type": "code",
   "execution_count": 37,
   "id": "5531b213-faa3-4f40-853f-e4f173969d6a",
   "metadata": {},
   "outputs": [],
   "source": [
    "def firstFunction():\n",
    "    print(\"Hello I'am a function\")\n",
    "    print(\"bye for now\")"
   ]
  },
  {
   "cell_type": "code",
   "execution_count": 40,
   "id": "54f582f4-56bc-4fb7-a957-8eabd1b11ef3",
   "metadata": {},
   "outputs": [
    {
     "name": "stdout",
     "output_type": "stream",
     "text": [
      "Hello I'am a function\n",
      "bye for now\n",
      "Hello I'am a function\n",
      "bye for now\n"
     ]
    }
   ],
   "source": [
    "firstFunction()\n",
    "\n",
    "firstFunction()"
   ]
  },
  {
   "cell_type": "code",
   "execution_count": 42,
   "id": "f8e99d45-4bcd-41f5-aab2-bc1232e68e07",
   "metadata": {},
   "outputs": [
    {
     "name": "stdout",
     "output_type": "stream",
     "text": [
      "Hello\n",
      "How are you?\n"
     ]
    }
   ],
   "source": [
    "# Functions with inputs - paramenters and Arguments\n",
    "\n",
    "def greet():\n",
    "    print(\"Hello\")\n",
    "    print(\"How are you?\")\n",
    "\n",
    "greet()"
   ]
  },
  {
   "cell_type": "code",
   "execution_count": 47,
   "id": "1e45c106-88e7-48ed-8e3a-10403a630c8f",
   "metadata": {},
   "outputs": [
    {
     "name": "stdout",
     "output_type": "stream",
     "text": [
      "Hello Eddy\n",
      "How are you Eddy ?\n"
     ]
    }
   ],
   "source": [
    "# greet with name \n",
    "\n",
    "def greetWithName(name):\n",
    "    print(f\"Hello {name}\")\n",
    "    print(f\"How are you {name} ?\")\n",
    "\n",
    "greetWithName('Eddy')\n",
    "\n",
    "# name = paramenter\n",
    "# Eddy = argument"
   ]
  },
  {
   "cell_type": "code",
   "execution_count": 56,
   "id": "965f26a7-53fe-43e1-9b1d-5445f22c4cd1",
   "metadata": {},
   "outputs": [
    {
     "name": "stdout",
     "output_type": "stream",
     "text": [
      "36\n"
     ]
    }
   ],
   "source": [
    "# area of the square\n",
    "\n",
    "def areaSquare(sideOfSquare):\n",
    "    area = sideOfSquare * sideOfSquare\n",
    "    print(area)\n",
    "    \n",
    "areaSquare(6)"
   ]
  },
  {
   "cell_type": "code",
   "execution_count": 57,
   "id": "d36f175f-b728-4f61-be69-b0cfa2861089",
   "metadata": {},
   "outputs": [
    {
     "name": "stdout",
     "output_type": "stream",
     "text": [
      "147.86765\n"
     ]
    }
   ],
   "source": [
    "# Volume convertion\n",
    "\n",
    "def convertToMl(ounces):\n",
    "    ouncesToMl = ounces * 29.57353\n",
    "    print(ouncesToMl)\n",
    "\n",
    "convertToMl(5)"
   ]
  },
  {
   "cell_type": "code",
   "execution_count": 65,
   "id": "8db21598-de3c-4488-8974-2ac7723e2b84",
   "metadata": {},
   "outputs": [
    {
     "name": "stdout",
     "output_type": "stream",
     "text": [
      "Hello eddy\n",
      "is your city Syracuse ?\n",
      "**********************positional argument**********************\n",
      "Hello Syracuse\n",
      "is your city Eddy ?\n",
      "**********************keyword argument **********************\n",
      "Hello Eddy\n",
      "is your city Syracuse ?\n"
     ]
    }
   ],
   "source": [
    "# Multiple parameters \n",
    "\n",
    "def greetWithNameCity(name,city):\n",
    "    print(f\"Hello {name}\")\n",
    "    print(f\"is your city {city} ?\")\n",
    "\n",
    "greetWithNameCity('eddy','Syracuse')\n",
    "\n",
    "# it takes position of the data \n",
    "\n",
    "print(\"**********************positional argument**********************\")\n",
    "\n",
    "greetWithNameCity('Syracuse','Eddy')\n",
    "\n",
    "print(\"**********************keyword argument **********************\")\n",
    "\n",
    "greetWithNameCity(city='Syracuse',name='Eddy')\n"
   ]
  },
  {
   "cell_type": "code",
   "execution_count": 68,
   "id": "f0b451d2-7c6e-4308-9081-38b31a624b90",
   "metadata": {},
   "outputs": [
    {
     "name": "stdout",
     "output_type": "stream",
     "text": [
      " total cans needed to paint the wall is 3\n",
      " total cans needed to paint the wall is 4\n"
     ]
    }
   ],
   "source": [
    "# Painting the Wall - to find the number of cans based on area - 1 can - 4 ms\n",
    "\n",
    "def cans(height,width,coverage):\n",
    "    areaOfWall = height * width\n",
    "    cans = math.ceil(areaOfWall / coverage)\n",
    "    print(f\" total cans needed to paint the wall is {cans}\")\n",
    "\n",
    "cans(2,5,4)\n",
    "cans(2,5,3)"
   ]
  },
  {
   "cell_type": "code",
   "execution_count": 72,
   "id": "0f5a9245-a670-4788-b5ff-900a36e0cac5",
   "metadata": {},
   "outputs": [
    {
     "name": "stdout",
     "output_type": "stream",
     "text": [
      "Eddy,Mike\n"
     ]
    }
   ],
   "source": [
    "# function does not return anything or cannot be assigned to any other variables\n",
    "\n",
    "def formatName(fname,lname):\n",
    "    formted_fname = fname.title()\n",
    "    formted_lname = lname.title()\n",
    "    return f\"{formted_fname},{formted_lname}\"\n",
    "    \n",
    "flname = formatName(\"Eddy\", \"Mike\")\n",
    "print(flname)\n",
    "\n",
    "# we can use return and assign output to a variable"
   ]
  },
  {
   "cell_type": "code",
   "execution_count": 78,
   "id": "49ff671e-83c0-4750-bc0e-2e62588425d7",
   "metadata": {},
   "outputs": [
    {
     "name": "stdout",
     "output_type": "stream",
     "text": [
      "facebook\n"
     ]
    }
   ],
   "source": [
    "# practice Concatenate using functions \n",
    "\n",
    "def Concatenate(x,y):\n",
    "    concat = str(x) + str(y)\n",
    "    return concat\n",
    "\n",
    "result = Concatenate(\"face\", \"book\")\n",
    "print(result)"
   ]
  },
  {
   "cell_type": "code",
   "execution_count": 80,
   "id": "b30e27da-bd89-4c75-8d15-a61129aace15",
   "metadata": {},
   "outputs": [
    {
     "name": "stdin",
     "output_type": "stream",
     "text": [
      "First_Name Raghu\n",
      "Last_Name Spoo\n"
     ]
    },
    {
     "name": "stdout",
     "output_type": "stream",
     "text": [
      "Raghu,Spoo\n"
     ]
    }
   ],
   "source": [
    "# more than multiple return functions \n",
    "\n",
    "# code after the return will not output - return is the end of the code\n",
    "\n",
    "def formatName(fname,lname):\n",
    "    if fname == \"\" or lname == \"\":\n",
    "        return \" First_Name or Last_Name cannot be empty \"\n",
    "    formted_fname = fname.title()\n",
    "    formted_lname = lname.title()\n",
    "    return f\"{formted_fname},{formted_lname}\"\n",
    "\n",
    "First_Name = str(input(\"First_Name\"))\n",
    "Last_Name = str(input(\"Last_Name\"))\n",
    "flname = formatName(First_Name, Last_Name)\n",
    "print(flname)"
   ]
  },
  {
   "cell_type": "code",
   "execution_count": 86,
   "id": "4873b7d8-808d-4ba1-b8a7-fd0013ce639a",
   "metadata": {},
   "outputs": [
    {
     "name": "stdout",
     "output_type": "stream",
     "text": [
      "False True\n"
     ]
    }
   ],
   "source": [
    "# Password Controller \n",
    "\n",
    "def PasswordController(password):\n",
    "    passwordlen = str(password)\n",
    "    if len(passwordlen) > 8:\n",
    "        return True\n",
    "    else:\n",
    "        return False\n",
    "\n",
    "a = PasswordController(\"custo\")\n",
    "b = PasswordController(\"custompassword\")\n",
    "\n",
    "print(a,b)"
   ]
  },
  {
   "cell_type": "markdown",
   "id": "f814bce4-7ab8-4f60-ad58-06c154df8165",
   "metadata": {},
   "source": [
    "# DocStrings"
   ]
  },
  {
   "cell_type": "code",
   "execution_count": 87,
   "id": "9e2da14b-0eaf-482f-bc1d-095221f00335",
   "metadata": {},
   "outputs": [
    {
     "name": "stdin",
     "output_type": "stream",
     "text": [
      "First_Name Raghu\n",
      "Last_Name Spoo\n"
     ]
    },
    {
     "name": "stdout",
     "output_type": "stream",
     "text": [
      "Raghu,Spoo\n"
     ]
    }
   ],
   "source": [
    "# the docstring must be written in the 1st line of the function\n",
    "\n",
    "def formatName(fname,lname):\n",
    "    \"\"\" The funcation formats first and last name\"\"\"\n",
    "    if fname == \"\" or lname == \"\":\n",
    "        return \" First_Name or Last_Name cannot be empty \"\n",
    "    formted_fname = fname.title()\n",
    "    formted_lname = lname.title()\n",
    "    return f\"{formted_fname},{formted_lname}\"\n",
    "\n",
    "First_Name = str(input(\"First_Name\"))\n",
    "Last_Name = str(input(\"Last_Name\"))\n",
    "flname = formatName(First_Name, Last_Name)\n",
    "print(flname)"
   ]
  },
  {
   "cell_type": "code",
   "execution_count": 4,
   "id": "d95a2b94-f379-4361-81b9-cb9d59dfd408",
   "metadata": {},
   "outputs": [
    {
     "name": "stdin",
     "output_type": "stream",
     "text": [
      "What is the first number?  4\n",
      "What is the second number?  2\n",
      "Pick operation from this list (+,-,*,/)  *\n"
     ]
    },
    {
     "name": "stdout",
     "output_type": "stream",
     "text": [
      "8\n"
     ]
    },
    {
     "name": "stdin",
     "output_type": "stream",
     "text": [
      "Pick new operation from this list (+,-,*,/)  /\n",
      "What is the third number?  2\n"
     ]
    },
    {
     "name": "stdout",
     "output_type": "stream",
     "text": [
      "4.0\n"
     ]
    }
   ],
   "source": [
    "# Practice - Calculator\n",
    "\n",
    "def Calculator(num1,num2,operation):\n",
    "    \"\"\" number_1, number_2, Operation - (+,-,*,/)\"\"\"\n",
    "    x = int(num1)\n",
    "    y = int(num2)\n",
    "    z = str(operation)\n",
    "    try:\n",
    "        if z == \"+\" :\n",
    "            calculation = x + y\n",
    "        elif z == \"-\":\n",
    "            calculation = x - y\n",
    "        elif z == \"*\":\n",
    "            calculation = x * y\n",
    "        elif z == \"/\":\n",
    "            calculation = x / y\n",
    "        return calculation\n",
    "        \n",
    "    except UnboundLocalError:\n",
    "        print(\"Enter a proper Operation\")\n",
    "        quit()\n",
    "        \n",
    "Number_1 = int(input(\"What is the first number? \"))\n",
    "Number_2 = int(input(\"What is the second number? \"))\n",
    "Operator = str(input(\"Pick operation from this list (+,-,*,/) \"))\n",
    "          \n",
    "output = Calculator(Number_1,Number_2,Operator)\n",
    "print(output)\n",
    "\n",
    "new_operation = str(input(\"Pick new operation from this list (+,-,*,/) \"))\n",
    "Number_3 = int(input(\"What is the third number? \"))\n",
    "\n",
    "newOutput = Calculator(output,Number_3,new_operation)\n",
    "print(newOutput)"
   ]
  },
  {
   "cell_type": "markdown",
   "id": "9f452d6c-1b0f-4743-9981-d8b7db63692e",
   "metadata": {},
   "source": [
    "# why Functions \n",
    "\n",
    "1. Reusability\n",
    "2. Abstraction"
   ]
  },
  {
   "cell_type": "code",
   "execution_count": 7,
   "id": "26a81fb4-cfbd-4069-b9bb-cbb9505f5531",
   "metadata": {},
   "outputs": [
    {
     "name": "stdout",
     "output_type": "stream",
     "text": [
      "30\n"
     ]
    }
   ],
   "source": [
    "def outer_function(a, b):\n",
    "    def inner_function(c, d):\n",
    "        return c + d\n",
    "    return inner_function(a, b)\n",
    " \n",
    "result = outer_function(10, 20)\n",
    "print(result)"
   ]
  },
  {
   "cell_type": "code",
   "execution_count": 13,
   "id": "598822e9-c688-4b39-9c17-3a5c8500af71",
   "metadata": {},
   "outputs": [
    {
     "name": "stdin",
     "output_type": "stream",
     "text": [
      "Enter the year 2100\n"
     ]
    },
    {
     "data": {
      "text/plain": [
       "'2100 is a leap year'"
      ]
     },
     "execution_count": 13,
     "metadata": {},
     "output_type": "execute_result"
    }
   ],
   "source": [
    "# leap year using functions\n",
    "\n",
    "def leap(year):\n",
    "    if len(str(year)) != 4 :\n",
    "        print(f\" The entered year {year} is incorrect, Please enter a correct year\")\n",
    "    else:\n",
    "        if year % 4 == 0:\n",
    "            if year % 400 == 0:\n",
    "                if year % 400 == 0:\n",
    "                    return f\"{year} is a leap year\"\n",
    "                else:\n",
    "                    return f\"{year} is not a leap year\"\n",
    "            else:\n",
    "                return f\"{year} is a leap year\"           \n",
    "        else:\n",
    "            return f\"{year} is not a leap year\"\n",
    "\n",
    "try:\n",
    "    year = int(input(\"Enter the year\"))    \n",
    "    \n",
    "except ValueError:\n",
    "    print(\"enter proper 4 digit year\")\n",
    "    year = int(input(\"Enter the year\"))\n",
    "       \n",
    "leap(year)"
   ]
  },
  {
   "cell_type": "code",
   "execution_count": 9,
   "id": "8f289ebd-8677-4a23-81a1-0cbacc2b8abc",
   "metadata": {},
   "outputs": [
    {
     "name": "stdin",
     "output_type": "stream",
     "text": [
      "enter the number of hours 45\n",
      "enter the rates 5\n"
     ]
    },
    {
     "name": "stdout",
     "output_type": "stream",
     "text": [
      "5.0 37.5\n",
      "237.5\n"
     ]
    }
   ],
   "source": [
    "# gross pay using functions and try and except\n",
    "\n",
    "def grosspay(hours,rate):\n",
    "    if hours < 40:\n",
    "        grossPay = round(hours * rate,2)\n",
    "    elif hours > 40 :\n",
    "        overtime = abs(hours - 40)\n",
    "        print(overtime, overtime * (rate * 1.5) )\n",
    "        grossPay = round((40 * rate) + (overtime * rate * 1.5),2)\n",
    "    return grossPay\n",
    "    \n",
    "try:\n",
    "    hours = float(input(\"enter the number of hours\"))\n",
    "    \n",
    "except ValueError: \n",
    "    print(\"error, please enter correct Numaric input for Hour\")\n",
    "    quit()\n",
    "\n",
    "try:\n",
    "    rate = float(input(\"enter the rates\"))\n",
    "    \n",
    "except ValueError: \n",
    "    print(\"error, please enter correct Numaric input for Rate\")\n",
    "    quit()\n",
    "\n",
    "outputgrosspay = grosspay(hours,rate)\n",
    "print(outputgrosspay)"
   ]
  },
  {
   "cell_type": "code",
   "execution_count": 2,
   "id": "9412e3b8-ee1d-4ff4-95f0-2a6e267accde",
   "metadata": {},
   "outputs": [
    {
     "name": "stdin",
     "output_type": "stream",
     "text": [
      "Enter the temprature te21\n"
     ]
    },
    {
     "name": "stdout",
     "output_type": "stream",
     "text": [
      "error, please enter correct Numaric input\n"
     ]
    }
   ],
   "source": [
    "# temprature problem\n",
    "\n",
    "def temprature(temp):\n",
    "    if temp > 28:\n",
    "        return \"Hot\"\n",
    "    elif temp > 18:\n",
    "        return \"Warm\"\n",
    "    elif temp < 18 :\n",
    "        return \"Cold\"\n",
    "\n",
    "try:\n",
    "    temp = float(input(\"Enter the temprature\"))\n",
    "    outputtemprature = temprature(temp)\n",
    "    print(outputtemprature)\n",
    "    \n",
    "except ValueError: \n",
    "    print(\"error, please enter correct Numaric input\")\n",
    "    #temp = float(input(\"Enter the temprature\"))\n",
    "    quit()\n",
    "\n"
   ]
  },
  {
   "cell_type": "code",
   "execution_count": 12,
   "id": "1e11a768-41c8-45fc-bd6d-d3470a5bc3d8",
   "metadata": {},
   "outputs": [
    {
     "name": "stdin",
     "output_type": "stream",
     "text": [
      "num1 99999\n",
      "num2 99999\n",
      "num3 1111111\n"
     ]
    },
    {
     "name": "stdout",
     "output_type": "stream",
     "text": [
      "1111111\n"
     ]
    }
   ],
   "source": [
    "# max number \n",
    "\n",
    "def maxnum2(number1,number2):\n",
    "    if number1 > number2:\n",
    "        return number1\n",
    "    return number2\n",
    "\n",
    "def maxnum3(number1,number2,number3):\n",
    "    maxOf2 = maxnum2(number1,number2)\n",
    "    maxOf3 = maxnum2(maxOf2,number3)\n",
    "    return maxOf3\n",
    "\n",
    "num1 = int(input(\"num1\"))\n",
    "num2 = int(input(\"num2\"))\n",
    "num3 = int(input(\"num3\"))\n",
    "\n",
    "outputmaxOf3 = maxnum3(num1,num2,num3)\n",
    "\n",
    "print(outputmaxOf3)"
   ]
  },
  {
   "cell_type": "markdown",
   "id": "e65ad6b4-003a-4882-a8eb-94e4c9181b09",
   "metadata": {},
   "source": [
    "# Basic Python Lists\n",
    "\n",
    "list = [1,2,3,.....,n]\n",
    "\n",
    "the list can have any datatypes\n",
    "\n",
    "they are placed in order.\n",
    "\n",
    "|0-----1-------2-------3--------n\n",
    "\n",
    "offset or 0 from beginning \n",
    "\n",
    "offset or n from beginning "
   ]
  },
  {
   "cell_type": "code",
   "execution_count": 23,
   "id": "f39c70dd-6dfe-45d7-b36d-e04f6abd8281",
   "metadata": {},
   "outputs": [
    {
     "name": "stdout",
     "output_type": "stream",
     "text": [
      "['england', 'scotland', 'wales', 'north ireland']\n",
      "england\n",
      "scotland\n",
      "north ireland\n",
      "['england', 'Skotland', 'wales', 'north ireland']\n",
      "['england', 'Skotland', 'wales', 'north ireland', 'test1']\n"
     ]
    }
   ],
   "source": [
    "countriesOfUk = [\"england\",\"scotland\",\"wales\",\"north ireland\"]\n",
    "\n",
    "print(countriesOfUk)\n",
    "\n",
    "print(countriesOfUk[0])\n",
    "print(countriesOfUk[1])\n",
    "\n",
    "print(countriesOfUk[-1]) # from the end \n",
    "\n",
    "countriesOfUk[1] = \"Skotland\" # replacing the values\n",
    "\n",
    "print(countriesOfUk)\n",
    "\n",
    "countriesOfUk.append(\"test1\") # adding at the end\n",
    "\n",
    "print(countriesOfUk)"
   ]
  },
  {
   "cell_type": "markdown",
   "id": "3fdb49eb-caf1-4696-8172-749bc594e989",
   "metadata": {},
   "source": [
    "# Iteration\n",
    "\n",
    "things that needs to be repeated again and again"
   ]
  },
  {
   "cell_type": "markdown",
   "id": "635cecb5-7718-4715-bd69-653975f09ddc",
   "metadata": {},
   "source": [
    "# For loop\n",
    "\n",
    "for items in list:\n",
    "\n",
    "do somthing\n",
    "\n",
    "anything inside the loop will run till the loop ends "
   ]
  },
  {
   "cell_type": "code",
   "execution_count": 27,
   "id": "c7496d9e-2e95-46eb-bda3-6c633e5abcc5",
   "metadata": {},
   "outputs": [
    {
     "name": "stdout",
     "output_type": "stream",
     "text": [
      "carrot\n",
      "broccoli\n",
      "corn\n"
     ]
    }
   ],
   "source": [
    "vegi = ['carrot','broccoli','corn']\n",
    "\n",
    "for i in vegi:\n",
    "    print(i)\n",
    "\n",
    "# for *anyname* in *nameOfList*"
   ]
  },
  {
   "cell_type": "code",
   "execution_count": 28,
   "id": "ec63549c-9b81-461b-81ad-273a4248dc1f",
   "metadata": {},
   "outputs": [
    {
     "name": "stdout",
     "output_type": "stream",
     "text": [
      "carrot\n",
      "carrotpie\n",
      "broccoli\n",
      "broccolipie\n",
      "corn\n",
      "cornpie\n"
     ]
    }
   ],
   "source": [
    "for i in vegi:\n",
    "    print(i)\n",
    "    print(i + \"pie\")"
   ]
  },
  {
   "cell_type": "code",
   "execution_count": 30,
   "id": "0466f28c-175e-4f62-8b06-077afe846540",
   "metadata": {},
   "outputs": [
    {
     "name": "stdout",
     "output_type": "stream",
     "text": [
      "['carrot', 'broccoli', 'corn']\n",
      "['carrot', 'broccoli', 'corn']\n",
      "['carrot', 'broccoli', 'corn']\n"
     ]
    }
   ],
   "source": [
    "for i in vegi:\n",
    "    print(vegi)"
   ]
  },
  {
   "cell_type": "code",
   "execution_count": 31,
   "id": "e3b3c984-3488-4161-8ff1-7478da08be04",
   "metadata": {},
   "outputs": [
    {
     "name": "stdout",
     "output_type": "stream",
     "text": [
      "carrot\n",
      "broccoli\n",
      "corn\n",
      "['carrot', 'broccoli', 'corn']\n"
     ]
    }
   ],
   "source": [
    "for i in vegi:\n",
    "    print(i)\n",
    "print(vegi)"
   ]
  },
  {
   "cell_type": "code",
   "execution_count": 34,
   "id": "3adde6b5-5d74-4511-a01e-ff8344c9882a",
   "metadata": {},
   "outputs": [
    {
     "name": "stdout",
     "output_type": "stream",
     "text": [
      "1\n",
      "3\n",
      "6\n"
     ]
    }
   ],
   "source": [
    "# updating the variables in the loop\n",
    "\n",
    "nums = [1,2,3]\n",
    "# intialise before\n",
    "s = 0 \n",
    "\n",
    "for i in nums:\n",
    "    s = s + i\n",
    "    print(s)"
   ]
  },
  {
   "cell_type": "code",
   "execution_count": 38,
   "id": "a8f18cf2-ad36-4720-aad5-21357c209270",
   "metadata": {},
   "outputs": [
    {
     "name": "stdout",
     "output_type": "stream",
     "text": [
      "23 23\n",
      "69 69\n",
      "56 69\n",
      "33 69\n",
      "90 90\n",
      "98 98\n",
      "31 98\n",
      "54 98\n",
      "87 98\n",
      "29 98\n",
      "93 98\n",
      "highestScore is 98\n"
     ]
    }
   ],
   "source": [
    "# finding out highest scores\n",
    "\n",
    "scores = [23,69,56,33,90,98,31,54,87,29,93]\n",
    "\n",
    "highestScore = 0\n",
    "for i in scores:\n",
    "    if i > highestScore:\n",
    "        highestScore = i\n",
    "    print(i,highestScore)\n",
    "print(f\"highestScore is {highestScore}\")"
   ]
  },
  {
   "cell_type": "code",
   "execution_count": 41,
   "id": "f5639474-51f5-4365-94a3-c83ec3dea269",
   "metadata": {},
   "outputs": [
    {
     "name": "stdout",
     "output_type": "stream",
     "text": [
      "11\n",
      "30\n",
      "54\n"
     ]
    }
   ],
   "source": [
    "# finding the integer number\n",
    "\n",
    "custom_list = [11, 30.1, 90.2, 30, 45.1, 54, '54']\n",
    "\n",
    "integerNum = []\n",
    "\n",
    "for i in custom_list:\n",
    "    if i == int(i):\n",
    "        integerNum = i\n",
    "        #integerNum.append(i)\n",
    "        print(integerNum)\n",
    "    "
   ]
  },
  {
   "cell_type": "code",
   "execution_count": 42,
   "id": "e64b95b8-a815-4fba-8ef0-cd0f33809b71",
   "metadata": {},
   "outputs": [
    {
     "name": "stdout",
     "output_type": "stream",
     "text": [
      "11\n",
      "30\n",
      "54\n"
     ]
    }
   ],
   "source": [
    "# isinstance() is generally preferred over checking types using type()\n",
    "\n",
    "for i in custom_list:\n",
    "    if isinstance(i,int):\n",
    "        integerNum = i\n",
    "        #integerNum.append(i)\n",
    "        print(integerNum)"
   ]
  },
  {
   "cell_type": "code",
   "execution_count": 64,
   "id": "372af494-16e1-419e-9cc8-5d0e808406cc",
   "metadata": {},
   "outputs": [
    {
     "name": "stdout",
     "output_type": "stream",
     "text": [
      "385 6\n",
      "the avg score is 64.17\n",
      "220\n"
     ]
    }
   ],
   "source": [
    "# Sum of Above Average Scores\n",
    "\n",
    "def sum_score_above_average(student_scores):\n",
    "    sumOfScores = 0\n",
    "    numOfStudents = 0\n",
    "    for i in student_scores:\n",
    "        sumOfScores = sumOfScores + i\n",
    "        numOfStudents += 1\n",
    "    print(sumOfScores,numOfStudents)\n",
    "    averageaScore = sumOfScores / numOfStudents\n",
    "    print(f\"the avg score is {round(averageaScore,2)}\")\n",
    "    totalAvgScore = 0\n",
    "    for i in student_scores:\n",
    "        if i > averageaScore:\n",
    "            totalAvgScore += i\n",
    "    return totalAvgScore\n",
    "\n",
    "\n",
    "student_scores = [80, 60, 50, 65, 75, 55]\n",
    "\n",
    "outputsum_score_above_average =  sum_score_above_average(student_scores)\n",
    "print(outputsum_score_above_average)"
   ]
  },
  {
   "cell_type": "code",
   "execution_count": 71,
   "id": "4243fa2c-bb85-4d82-a238-eaa5f70d743e",
   "metadata": {},
   "outputs": [
    {
     "name": "stdout",
     "output_type": "stream",
     "text": [
      "fdhufhgf7456 True\n",
      "eaawestrxvh8 True\n"
     ]
    }
   ],
   "source": [
    "# loop over custom functions\n",
    "\n",
    "def password_controller(password):\n",
    "   if len(password) > 8:\n",
    "       return True\n",
    "   else:\n",
    "       return False\n",
    "       \n",
    "passwordList = ['fdhufhgf7456','lkjvk67','kj68','klhvg7','jhjvvhj8','eaawestrxvh8','fa4','xvcxbg7']\n",
    "\n",
    "for i in passwordList:\n",
    "    result = password_controller(i)\n",
    "    if result == True:\n",
    "     print(i,result)\n",
    "    "
   ]
  },
  {
   "cell_type": "code",
   "execution_count": 80,
   "id": "456b5d39-a8fd-4c8a-9881-d3c654cb4f21",
   "metadata": {},
   "outputs": [
    {
     "name": "stdout",
     "output_type": "stream",
     "text": [
      "1\n",
      "4\n",
      "9\n",
      "16\n",
      "25\n",
      "total is 25\n"
     ]
    }
   ],
   "source": [
    "# range() function in for loop\n",
    "\n",
    "#for i in range(start,end,step): end = n-1\n",
    "n= 10\n",
    "total = 0\n",
    "for i in range(1,n+1,2):\n",
    "    total += i\n",
    "    print(total)\n",
    "print(f\"total is {total}\")"
   ]
  },
  {
   "cell_type": "code",
   "execution_count": 84,
   "id": "5b39b931-2ff7-49b9-9fd2-c60d420d5a58",
   "metadata": {},
   "outputs": [
    {
     "name": "stdin",
     "output_type": "stream",
     "text": [
      "enter a numebr 10\n"
     ]
    },
    {
     "name": "stdout",
     "output_type": "stream",
     "text": [
      "1 1\n",
      "3 4\n",
      "5 9\n",
      "7 16\n",
      "9 25\n",
      "total is 25\n"
     ]
    }
   ],
   "source": [
    "# Adding odd numbers\n",
    "\n",
    "def addingOddNum(n):\n",
    "    total = 0\n",
    "    for i in range(1,n):\n",
    "        if i%2 != 0:\n",
    "            total += i\n",
    "            print(i,total)\n",
    "    print(f\"total is {total}\")\n",
    "\n",
    "number = int(input(\"enter a numebr\"))\n",
    "addingOddNum(number)"
   ]
  },
  {
   "cell_type": "code",
   "execution_count": 86,
   "id": "165fde98-2549-447b-9225-845ac36c199c",
   "metadata": {},
   "outputs": [
    {
     "name": "stdin",
     "output_type": "stream",
     "text": [
      "enter a start numeber 1\n",
      "enter a stop numeber 100\n"
     ]
    },
    {
     "name": "stdout",
     "output_type": "stream",
     "text": [
      "2 2\n",
      "4 6\n",
      "6 12\n",
      "8 20\n",
      "10 30\n",
      "12 42\n",
      "14 56\n",
      "16 72\n",
      "18 90\n",
      "20 110\n",
      "22 132\n",
      "24 156\n",
      "26 182\n",
      "28 210\n",
      "30 240\n",
      "32 272\n",
      "34 306\n",
      "36 342\n",
      "38 380\n",
      "40 420\n",
      "42 462\n",
      "44 506\n",
      "46 552\n",
      "48 600\n",
      "50 650\n",
      "52 702\n",
      "54 756\n",
      "56 812\n",
      "58 870\n",
      "60 930\n",
      "62 992\n",
      "64 1056\n",
      "66 1122\n",
      "68 1190\n",
      "70 1260\n",
      "72 1332\n",
      "74 1406\n",
      "76 1482\n",
      "78 1560\n",
      "80 1640\n",
      "82 1722\n",
      "84 1806\n",
      "86 1892\n",
      "88 1980\n",
      "90 2070\n",
      "92 2162\n",
      "94 2256\n",
      "96 2352\n",
      "98 2450\n",
      "100 2550\n",
      "total is 2550\n"
     ]
    }
   ],
   "source": [
    "# Adding Even Numbers in ANY Range\n",
    "\n",
    "def addingEvenNum(start,stop):\n",
    "    total = 0\n",
    "    for i in range(start,stop+1):\n",
    "        if i%2 == 0:\n",
    "            total += i\n",
    "            print(i,total)\n",
    "    print(f\"total is {total}\")\n",
    "\n",
    "start = int(input(\"enter a start numeber\"))\n",
    "stop = int(input(\"enter a stop numeber\"))\n",
    "\n",
    "addingEvenNum(start,stop)"
   ]
  },
  {
   "cell_type": "markdown",
   "id": "547dd8d0-6279-4feb-ba84-9a7a390583da",
   "metadata": {},
   "source": [
    "# While Loop\n",
    "\n",
    "While somthing is true:\n",
    "\n",
    "do some tasks\n",
    "\n",
    "at one point the condition must be false"
   ]
  },
  {
   "cell_type": "code",
   "execution_count": 88,
   "id": "bc28b01a-21e5-4b99-b92a-2f5cfcaaa3f6",
   "metadata": {},
   "outputs": [
    {
     "name": "stdin",
     "output_type": "stream",
     "text": [
      " enter username  rafg'\n",
      " enter username  test\n"
     ]
    }
   ],
   "source": [
    "# Check Username\n",
    "\n",
    "username = \"\"\n",
    "\n",
    "while username != \"test\":\n",
    "    username = str(input(\" enter username \" ))\n",
    "    "
   ]
  },
  {
   "cell_type": "markdown",
   "id": "3d91b2a9-dc64-4061-b5f5-3a523557313d",
   "metadata": {},
   "source": [
    "# Continue and Break inside the loops"
   ]
  },
  {
   "cell_type": "code",
   "execution_count": 91,
   "id": "6f33b511-a1d0-440a-92e5-727e73c1a065",
   "metadata": {},
   "outputs": [
    {
     "name": "stdout",
     "output_type": "stream",
     "text": [
      "1\n",
      "2\n",
      "3\n",
      "4\n",
      "6\n",
      "7\n",
      "8\n",
      "9\n",
      "10\n"
     ]
    }
   ],
   "source": [
    "# continues to a next loop and skips the rest of code for currect iteration \n",
    "\n",
    "# break terminates the whole loop\n",
    "\n",
    "for i in range (1,11):\n",
    "    if i == 5:\n",
    "        continue\n",
    "    print(i)"
   ]
  },
  {
   "cell_type": "code",
   "execution_count": 96,
   "id": "4c53634c-7b2b-4d20-86fb-799cbf2e8b8d",
   "metadata": {},
   "outputs": [
    {
     "name": "stdout",
     "output_type": "stream",
     "text": [
      "0\n"
     ]
    }
   ],
   "source": [
    "num = 11\n",
    "while i > 0:\n",
    "    i -= 1\n",
    "    if i == 5:\n",
    "        continue\n",
    "print(i)\n",
    "        "
   ]
  },
  {
   "cell_type": "code",
   "execution_count": 93,
   "id": "df1563b9-b294-46c2-aab8-ad82ef84d8e4",
   "metadata": {},
   "outputs": [
    {
     "name": "stdout",
     "output_type": "stream",
     "text": [
      "1\n",
      "2\n",
      "3\n",
      "4\n"
     ]
    }
   ],
   "source": [
    "for i in range (1,11):\n",
    "    if i == 5:\n",
    "        break\n",
    "    print(i)"
   ]
  },
  {
   "cell_type": "code",
   "execution_count": 97,
   "id": "3df8250b-ec1b-441f-87fb-bd8b7703cfe7",
   "metadata": {},
   "outputs": [
    {
     "name": "stdout",
     "output_type": "stream",
     "text": [
      "0\n"
     ]
    }
   ],
   "source": [
    "num = 11\n",
    "while i > 0:\n",
    "    i -= 1\n",
    "    if i == 5:\n",
    "        break\n",
    "print(i)\n",
    "        "
   ]
  },
  {
   "cell_type": "code",
   "execution_count": 117,
   "id": "887ebe3f-faa5-4b92-a7f3-ce72e759f45f",
   "metadata": {},
   "outputs": [
    {
     "name": "stdout",
     "output_type": "stream",
     "text": [
      "15\n",
      "40\n",
      "75\n",
      "Stop\n"
     ]
    }
   ],
   "source": [
    "# Numbers Divisible by 5 Until 130\n",
    "\n",
    "list1 = [12, 15, 32, 40, 52, 75, 122, 132, 150, 180, 200]\n",
    "\n",
    "def numbers_divisible_byfive(x):\n",
    "    for i in list1:\n",
    "        if i > 130:\n",
    "            break\n",
    "        if i % 5 == 0:\n",
    "            print(i)\n",
    "    print(\"Stop\")\n",
    "           \n",
    "\n",
    "numbers_divisible_byfive(list1)"
   ]
  },
  {
   "cell_type": "code",
   "execution_count": 2,
   "id": "85ca126a-cd58-49cf-a717-25257d73b01c",
   "metadata": {},
   "outputs": [
    {
     "data": {
      "text/plain": [
       "256"
      ]
     },
     "execution_count": 2,
     "metadata": {},
     "output_type": "execute_result"
    }
   ],
   "source": [
    "# Factorial of a num\n",
    "\n",
    "def factorial(num):\n",
    "    fact = 1\n",
    "    if num < 0:\n",
    "        return \"cannot find the factorial for negative number \"\n",
    "    elif num == 0:\n",
    "        return \"fact of 0 is 1\"\n",
    "    else:\n",
    "        for i in range(1,num + 1):\n",
    "            fact = fact * num\n",
    "        return fact\n",
    "    \n",
    "\n",
    "factorial(4)"
   ]
  },
  {
   "cell_type": "code",
   "execution_count": 8,
   "id": "45718293-0ec3-4534-a89b-f6baaef0324f",
   "metadata": {},
   "outputs": [
    {
     "name": "stdin",
     "output_type": "stream",
     "text": [
      "enter a number done\n"
     ]
    },
    {
     "name": "stdout",
     "output_type": "stream",
     "text": [
      "0.0 0 0.0\n"
     ]
    },
    {
     "data": {
      "text/plain": [
       "6.0"
      ]
     },
     "execution_count": 8,
     "metadata": {},
     "output_type": "execute_result"
    }
   ],
   "source": [
    "## Sum, Count and Average of Entered Numbers\n",
    "\n",
    "def checkFloat(x):\n",
    "    try:\n",
    "        val = float(x)\n",
    "        return val\n",
    "    except ( TypeError, ValueError, NameError):\n",
    "        print(\"Error, please enter numaric input\")\n",
    "        return False\n",
    "\n",
    "count = 0\n",
    "total = 0.0\n",
    "avg = 0.0\n",
    "\n",
    "while True:\n",
    "    inputnum = input(\"enter a number\")\n",
    "    if inputnum == \"done\":\n",
    "        break\n",
    "        \n",
    "    finalnum  = checkFloat(inputnum)\n",
    "    if not finalnum:\n",
    "        continue \n",
    "\n",
    "    \n",
    "    count += 1\n",
    "    total = total + finalnum\n",
    "if count != 0:\n",
    "    avg = total / count\n",
    "\n",
    "print(total,count,avg)\n",
    "    \n",
    "\n",
    "checkFloat(6)"
   ]
  },
  {
   "cell_type": "code",
   "execution_count": 1,
   "id": "2cdf3c50-62c0-4671-9755-65b4c8ad4754",
   "metadata": {},
   "outputs": [
    {
     "name": "stdin",
     "output_type": "stream",
     "text": [
      "Enter number \n"
     ]
    },
    {
     "name": "stdout",
     "output_type": "stream",
     "text": [
      "Enter a numaric Number\n"
     ]
    },
    {
     "name": "stdin",
     "output_type": "stream",
     "text": [
      "Enter number \n"
     ]
    },
    {
     "name": "stdout",
     "output_type": "stream",
     "text": [
      "Enter a numaric Number\n"
     ]
    },
    {
     "name": "stdin",
     "output_type": "stream",
     "text": [
      "Enter number \n"
     ]
    },
    {
     "name": "stdout",
     "output_type": "stream",
     "text": [
      "Enter a numaric Number\n"
     ]
    },
    {
     "name": "stdin",
     "output_type": "stream",
     "text": [
      "Enter number doen\n"
     ]
    },
    {
     "name": "stdout",
     "output_type": "stream",
     "text": [
      "Enter a numaric Number\n"
     ]
    },
    {
     "name": "stdin",
     "output_type": "stream",
     "text": [
      "Enter number done\n"
     ]
    },
    {
     "name": "stdout",
     "output_type": "stream",
     "text": [
      "False False\n"
     ]
    }
   ],
   "source": [
    "# Maximum and Minimum of Input Numbers\n",
    "\n",
    "def checkForFloat(num):\n",
    "    try:\n",
    "        val = float(num)\n",
    "        return val\n",
    "    except ( ValueError,TypeError):\n",
    "        print(\"Enter a numaric Number\")\n",
    "        return False\n",
    "\n",
    "number = input(\"Enter number\")\n",
    "if number =='done':\n",
    "    quit()\n",
    "floatnum = checkForFloat(number)\n",
    "if not number:\n",
    "    quit()\n",
    "    \n",
    "min = floatnum\n",
    "max = floatnum\n",
    "\n",
    "while True:\n",
    "    number = input(\"Enter number\")\n",
    "    if number == \"done\":\n",
    "        break\n",
    "    floatnum = checkForFloat(number)\n",
    "    if floatnum > max:\n",
    "        max = floatnum\n",
    "    if floatnum < min:\n",
    "        min = floatnum\n",
    "\n",
    "print(max,min)"
   ]
  },
  {
   "cell_type": "markdown",
   "id": "ba247544-27a1-4727-9f7b-d4b99cb04732",
   "metadata": {},
   "source": [
    "# Real World problems "
   ]
  },
  {
   "cell_type": "code",
   "execution_count": 1,
   "id": "74e6092d-f1fa-4928-b698-255d1e162840",
   "metadata": {},
   "outputs": [
    {
     "name": "stdin",
     "output_type": "stream",
     "text": [
      " Do you want to roll : y/n :  y\n"
     ]
    },
    {
     "name": "stdout",
     "output_type": "stream",
     "text": [
      "dice1 : 5\n",
      "dice2 : 2\n"
     ]
    },
    {
     "name": "stdin",
     "output_type": "stream",
     "text": [
      " Do you want to roll again y/n n\n"
     ]
    },
    {
     "name": "stdout",
     "output_type": "stream",
     "text": [
      " Check your random dice \n"
     ]
    }
   ],
   "source": [
    "# Dice Rolling \n",
    "\n",
    "import random\n",
    "\n",
    "rollagain = input(\" Do you want to roll : y/n : \")\n",
    "while True:\n",
    "    if rollagain == \"y\":\n",
    "        dice1 = random.randint(1,6)\n",
    "        dice2 = random.randint(1,6)\n",
    "        print(f\"dice1 : {dice1}\")\n",
    "        print(f\"dice2 : {dice2}\")\n",
    "        rollagain = input(\" Do you want to roll again y/n\")\n",
    "    elif rollagain == \"n\":\n",
    "        print(\" Check your random dice \")\n",
    "        break\n"
   ]
  },
  {
   "cell_type": "code",
   "execution_count": 8,
   "id": "1437cf2a-e93d-4972-8d6a-33c12b9997d0",
   "metadata": {},
   "outputs": [
    {
     "name": "stdout",
     "output_type": "stream",
     "text": [
      "1\n",
      "2\n",
      "3\n",
      "4\n",
      "Fizz \n",
      "6\n",
      "Buzz\n",
      "8\n",
      "9\n",
      "Fizz \n",
      "11\n",
      "12\n",
      "13\n",
      "Buzz\n",
      "Fizz \n",
      "16\n",
      "17\n",
      "18\n",
      "19\n",
      "Fizz \n",
      "Buzz\n",
      "22\n",
      "23\n",
      "24\n",
      "Fizz \n",
      "26\n",
      "27\n",
      "Buzz\n",
      "29\n",
      "Fizz \n",
      "31\n",
      "32\n",
      "33\n",
      "34\n",
      "Fizz Buzz\n",
      "36\n",
      "37\n",
      "38\n",
      "39\n",
      "Fizz \n",
      "41\n",
      "Buzz\n",
      "43\n",
      "44\n",
      "Fizz \n",
      "46\n",
      "47\n",
      "48\n",
      "Buzz\n",
      "Fizz \n",
      "51\n",
      "52\n",
      "53\n",
      "54\n",
      "Fizz \n",
      "Buzz\n",
      "57\n",
      "58\n",
      "59\n",
      "Fizz \n",
      "61\n",
      "62\n",
      "Buzz\n",
      "64\n",
      "Fizz \n",
      "66\n",
      "67\n",
      "68\n",
      "69\n",
      "Fizz Buzz\n",
      "71\n",
      "72\n",
      "73\n",
      "74\n",
      "Fizz \n",
      "76\n",
      "Buzz\n",
      "78\n",
      "79\n",
      "Fizz \n",
      "81\n",
      "82\n",
      "83\n",
      "Buzz\n",
      "Fizz \n",
      "86\n",
      "87\n",
      "88\n",
      "89\n",
      "Fizz \n",
      "Buzz\n",
      "92\n",
      "93\n",
      "94\n",
      "Fizz \n",
      "96\n",
      "97\n",
      "Buzz\n",
      "99\n",
      "Fizz \n"
     ]
    }
   ],
   "source": [
    "# Fizz buzz game\n",
    "\n",
    "n = 100\n",
    "for i in range (1,n+1):\n",
    "    if i % 5 == 0 and i % 7 == 0 :\n",
    "        output = print(\"Fizz Buzz\")\n",
    "    elif i % 7 == 0 :\n",
    "        output = print(\"Buzz\")\n",
    "    elif i % 5 == 0:\n",
    "        output = print(\"Fizz \")\n",
    "    else:\n",
    "        output = print(i)"
   ]
  },
  {
   "cell_type": "code",
   "execution_count": 35,
   "id": "f3d8f1d1-2233-469d-a1bd-7e8ca10f8677",
   "metadata": {},
   "outputs": [
    {
     "name": "stdin",
     "output_type": "stream",
     "text": [
      "Enter Upper Bond Number  5\n",
      "Enter lower Bond Number  1\n"
     ]
    },
    {
     "name": "stdout",
     "output_type": "stream",
     "text": [
      "\n",
      "\tyou have got only 1 changes to guess the integer\n",
      "\n"
     ]
    },
    {
     "name": "stdin",
     "output_type": "stream",
     "text": [
      "Guess the number between 5 and 1 2\n"
     ]
    },
    {
     "name": "stdout",
     "output_type": "stream",
     "text": [
      "you guessed too low\n",
      "\n",
      "The number is 3\n",
      "\t better luck next time\n"
     ]
    }
   ],
   "source": [
    "# Guessing the number \n",
    "import math\n",
    "\n",
    "upperBond = int(input(\"Enter Upper Bond Number \"))\n",
    "lowerBond = int(input(\"Enter lower Bond Number \"))\n",
    "\n",
    "numberOfChances = int(math.log(upperBond-lowerBond +1))\n",
    "\n",
    "print(f\"\\n\\tyou have got only {numberOfChances} changes to guess the integer\\n\")\n",
    "\n",
    "\n",
    "guessednum = random.randint(lowerBond,upperBond)\n",
    "\n",
    "count = 0 \n",
    "\n",
    "while count < numberOfChances:\n",
    "    count += 1\n",
    "    guess = int(input(f\"Guess the number between {upperBond} and {lowerBond}\"))\n",
    "    if guess > guessednum:\n",
    "        print(\"you guessed too high\")\n",
    "        \n",
    "    elif guess < guessednum:\n",
    "        print(\"you guessed too low\")\n",
    "    \n",
    "    elif guess == guessednum:\n",
    "        print(f\"you guessed it correct in {count} \")\n",
    "        break\n",
    "\n",
    "print(f\"\\nThe number is {guessednum}\")\n",
    "print(\"\\t better luck next time\")"
   ]
  },
  {
   "cell_type": "code",
   "execution_count": 66,
   "id": "ca5078cb-f24a-4a26-a467-5ac4053bd693",
   "metadata": {},
   "outputs": [
    {
     "name": "stdin",
     "output_type": "stream",
     "text": [
      " How many letters do u want  4\n",
      " How many numbers do u want  5\n",
      " How many symb do u want  6\n"
     ]
    },
    {
     "name": "stdout",
     "output_type": "stream",
     "text": [
      "fBpc31204$!@#*+\n"
     ]
    }
   ],
   "source": [
    "# password Generator\n",
    "\n",
    "import random\n",
    "letters = \"abcdefghijklmnopqrstuvwxyzABCDEFGHIJKLMNOPQRSTUVWXYZ\"\n",
    "nums = \"1234567890\"\n",
    "symbols = \"-+=!@#$%^&*\"\n",
    "\n",
    "inputletters = int(input(\" How many letters do u want \"))\n",
    "inputNumbs = int(input(\" How many numbers do u want \"))\n",
    "inputSymb = int(input(\" How many symb do u want \"))\n",
    "\n",
    "password = \"\"\n",
    "\n",
    "for i in range(1,inputletters + 1):\n",
    "    password += str(random.choice(letters))\n",
    "\n",
    "for j in range(1,inputNumbs + 1):\n",
    "    password += str(random.choice(nums))\n",
    "\n",
    "for k in range(1,inputSymb + 1):\n",
    "    password += str(random.choice(symbols))\n",
    "    \n",
    "print(password)"
   ]
  },
  {
   "cell_type": "code",
   "execution_count": 76,
   "id": "ccbb3b37-7515-44b3-8e2f-e64cd2a9707f",
   "metadata": {},
   "outputs": [
    {
     "name": "stdout",
     "output_type": "stream",
     "text": [
      "['f', 'B', 'p', 'c', '3', '1', '2', '0', '4', '$', '!', '@', '#', '*', '+']\n",
      "['#', 'p', '!', 'c', '2', '3', '*', '0', '$', '@', 'B', '4', '+', 'f', '1']\n",
      "#p!c23*0$@B4+f1\n"
     ]
    }
   ],
   "source": [
    "listPassword = list(password)\n",
    "print(listPassword)\n",
    "\n",
    "random.shuffle(listPassword)\n",
    "print(listPassword)\n",
    "\n",
    "advancedPassword = ''\n",
    "for i in listPassword:\n",
    "    advancedPassword += i\n",
    "print(  advancedPassword) "
   ]
  },
  {
   "cell_type": "code",
   "execution_count": 12,
   "id": "f414fb01-ba43-4a93-b475-034d45893428",
   "metadata": {},
   "outputs": [],
   "source": [
    "# Rock paper scissors\n",
    "import random\n",
    "\n",
    "def rps(rps):\n",
    "    inputs = ['rock', 'paper', 'scissor']\n",
    "    computergen = random.choice(inputs)\n",
    "    return computergen"
   ]
  }
 ],
 "metadata": {
  "kernelspec": {
   "display_name": "Python 3 (ipykernel)",
   "language": "python",
   "name": "python3"
  },
  "language_info": {
   "codemirror_mode": {
    "name": "ipython",
    "version": 3
   },
   "file_extension": ".py",
   "mimetype": "text/x-python",
   "name": "python",
   "nbconvert_exporter": "python",
   "pygments_lexer": "ipython3",
   "version": "3.11.5"
  }
 },
 "nbformat": 4,
 "nbformat_minor": 5
}
